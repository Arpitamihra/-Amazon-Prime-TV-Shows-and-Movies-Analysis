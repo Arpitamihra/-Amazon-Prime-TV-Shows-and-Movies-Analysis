{
  "nbformat": 4,
  "nbformat_minor": 0,
  "metadata": {
    "colab": {
      "provenance": [],
      "include_colab_link": true
    },
    "kernelspec": {
      "name": "python3",
      "display_name": "Python 3"
    },
    "language_info": {
      "name": "python"
    }
  },
  "cells": [
    {
      "cell_type": "markdown",
      "metadata": {
        "id": "view-in-github",
        "colab_type": "text"
      },
      "source": [
        "<a href=\"https://colab.research.google.com/github/Arpitamihra/-Amazon-Prime-TV-Shows-and-Movies-Analysis/blob/main/Copy_of_final_project__news_summerization.ipynb\" target=\"_parent\"><img src=\"https://colab.research.google.com/assets/colab-badge.svg\" alt=\"Open In Colab\"/></a>"
      ]
    },
    {
      "cell_type": "code",
      "execution_count": null,
      "metadata": {
        "colab": {
          "base_uri": "https://localhost:8080/"
        },
        "id": "AxfXTuBr_YhD",
        "outputId": "869abff9-f1d9-4582-c896-fa2a3d980186"
      },
      "outputs": [
        {
          "output_type": "stream",
          "name": "stderr",
          "text": [
            "[nltk_data] Downloading package punkt to /root/nltk_data...\n",
            "[nltk_data]   Unzipping tokenizers/punkt.zip.\n"
          ]
        },
        {
          "output_type": "execute_result",
          "data": {
            "text/plain": [
              "True"
            ]
          },
          "metadata": {},
          "execution_count": 1
        }
      ],
      "source": [
        "import nltk\n",
        "nltk.download('punkt')"
      ]
    },
    {
      "cell_type": "code",
      "source": [
        "import nltk\n",
        "nltk.download('stopwords')"
      ],
      "metadata": {
        "colab": {
          "base_uri": "https://localhost:8080/"
        },
        "id": "-pJP2rHPArbJ",
        "outputId": "a1cf7266-ba66-4196-96b5-0d4b51d22de4"
      },
      "execution_count": null,
      "outputs": [
        {
          "output_type": "stream",
          "name": "stderr",
          "text": [
            "[nltk_data] Downloading package stopwords to /root/nltk_data...\n",
            "[nltk_data]   Unzipping corpora/stopwords.zip.\n"
          ]
        },
        {
          "output_type": "execute_result",
          "data": {
            "text/plain": [
              "True"
            ]
          },
          "metadata": {},
          "execution_count": 3
        }
      ]
    },
    {
      "cell_type": "code",
      "source": [
        "import nltk\n",
        "nltk.set_proxy('http://your_proxy.com:port')"
      ],
      "metadata": {
        "id": "6umHHT1tA17Q"
      },
      "execution_count": null,
      "outputs": []
    },
    {
      "cell_type": "code",
      "source": [
        "import nltk\n",
        "nltk.data.path.append(\"/path/to/nltk_data\")"
      ],
      "metadata": {
        "id": "sc95rKv6A5B4"
      },
      "execution_count": null,
      "outputs": []
    },
    {
      "cell_type": "code",
      "source": [
        "import nltk\n",
        "from nltk.tokenize import sent_tokenize, word_tokenize\n",
        "from nltk.corpus import stopwords\n",
        "from nltk.probability import FreqDist\n",
        "from heapq import nlargest\n",
        "\n",
        "# Sample news article\n",
        "news_article = ''' he 2009 Hell in a Cell was the inaugural Hell in a Cell professional wrestling pay-per-view (PPV) event produced by World Wrestling Entertainment (WWE). It was held for wrestlers from the promotion's Raw, SmackDown, and ECW brand divisions. The event took place on October 4, 2009, at the Prudential Center in Newark, New Jersey. It replaced the previously annual October PPV, No Mercy. This was the only Hell in a Cell event to feature the ECW brand, as it was disbanded in February 2010.\n",
        "\n",
        "There were eight matches scheduled on the event's card, as well as one dark match that occurred before the live broadcast. The event featured what was known as a supercard, which featured more than one main event match. The concept of the event was that each of these main event matches would be contested as Hell in a Cell matches. The main events included D-Generation X (Triple H and Shawn Michaels) defeating The Legacy (Cody Rhodes and Ted DiBiase), Randy Orton defeating John Cena to win the WWE Championship, and The Undertaker defeating CM Punk to win the World Heavyweight Championship.\n",
        "\n",
        "Other matches featured on the event were John Morrison defending the WWE Intercontinental Championship against Dolph Ziggler, Mickie James versus Alicia Fox for the WWE Divas Championship, Unified WWE Tag Team Champions Chris Jericho and Big Show versus Batista and Rey Mysterio, Drew McIntyre facing R-Truth, and a triple threat match for the WWE United States Championship among Kofi Kingston, The Miz, and Jack Swagger. This event would also be the final time Jim Ross called as part of WWE's commentary team full-time for a pay-per-view event and began part-time commentary onwards. The pay-per-view drew 283,000 buys, up from the 261,000 buys No Mercy 2008 received.'''\n",
        "print(len(news_article))\n",
        "# Tokenize the article into sentences\n",
        "sentences = sent_tokenize(news_article)\n",
        "\n",
        "# Tokenize words and filter stopwords/punctuation\n",
        "words = word_tokenize(news_article.lower())\n",
        "stop_words = set(stopwords.words('english'))\n",
        "filtered_words = [word for word in words if word not in stop_words and word.isalnum()]\n",
        "\n",
        "# Calculate word frequency using FreqDist\n",
        "word_freq = FreqDist(filtered_words)\n",
        "\n",
        "# Score sentences based on word frequency\n",
        "sent_scores = {}\n",
        "for sentence in sentences:\n",
        "    for word in word_tokenize(sentence.lower()):\n",
        "        if word in word_freq:\n",
        "            if sentence not in sent_scores:\n",
        "                sent_scores[sentence] = word_freq[word]\n",
        "            else:\n",
        "                sent_scores[sentence] += word_freq[word]\n",
        "\n",
        "# Get top N sentences with highest scores\n",
        "summary_sentences = nlargest(5, sent_scores, key=sent_scores.get)\n",
        "\n",
        "# Join the summary sentences to create the final summary\n",
        "summary = ' '.join(summary_sentences)\n",
        "\n",
        "print(summary)\n",
        "print(len(summary))"
      ],
      "metadata": {
        "colab": {
          "base_uri": "https://localhost:8080/"
        },
        "id": "uD6h1v2WBJk1",
        "outputId": "e6abadcd-4ac4-4380-bfb1-42cde3741441"
      },
      "execution_count": null,
      "outputs": [
        {
          "output_type": "stream",
          "name": "stdout",
          "text": [
            "1760\n",
            "Other matches featured on the event were John Morrison defending the WWE Intercontinental Championship against Dolph Ziggler, Mickie James versus Alicia Fox for the WWE Divas Championship, Unified WWE Tag Team Champions Chris Jericho and Big Show versus Batista and Rey Mysterio, Drew McIntyre facing R-Truth, and a triple threat match for the WWE United States Championship among Kofi Kingston, The Miz, and Jack Swagger. The main events included D-Generation X (Triple H and Shawn Michaels) defeating The Legacy (Cody Rhodes and Ted DiBiase), Randy Orton defeating John Cena to win the WWE Championship, and The Undertaker defeating CM Punk to win the World Heavyweight Championship.  he 2009 Hell in a Cell was the inaugural Hell in a Cell professional wrestling pay-per-view (PPV) event produced by World Wrestling Entertainment (WWE). This event would also be the final time Jim Ross called as part of WWE's commentary team full-time for a pay-per-view event and began part-time commentary onwards. The concept of the event was that each of these main event matches would be contested as Hell in a Cell matches.\n",
            "1116\n"
          ]
        }
      ]
    }
  ]
}