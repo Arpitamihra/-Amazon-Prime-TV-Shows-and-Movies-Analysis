{
  "nbformat": 4,
  "nbformat_minor": 0,
  "metadata": {
    "colab": {
      "private_outputs": true,
      "provenance": [],
      "collapsed_sections": [
        "FJNUwmbgGyua",
        "w6K7xa23Elo4",
        "yQaldy8SH6Dl",
        "PH-0ReGfmX4f",
        "mDgbUHAGgjLW",
        "lQ7QKXXCp7Bj",
        "448CDAPjqfQr"
      ],
      "include_colab_link": true
    },
    "kernelspec": {
      "name": "python3",
      "display_name": "Python 3"
    },
    "language_info": {
      "name": "python"
    }
  },
  "cells": [
    {
      "cell_type": "markdown",
      "metadata": {
        "id": "view-in-github",
        "colab_type": "text"
      },
      "source": [
        "<a href=\"https://colab.research.google.com/github/Arpitamihra/-Amazon-Prime-TV-Shows-and-Movies-Analysis/blob/main/Copy_of_Sample_EDA_Submission_Template.ipynb\" target=\"_parent\"><img src=\"https://colab.research.google.com/assets/colab-badge.svg\" alt=\"Open In Colab\"/></a>"
      ]
    },
    {
      "cell_type": "code",
      "source": [],
      "metadata": {
        "id": "I1apcow5dxii"
      },
      "execution_count": null,
      "outputs": []
    },
    {
      "cell_type": "markdown",
      "source": [
        "\n",
        "\n",
        "```\n",
        "# This is formatted as code\n",
        "```\n",
        "\n",
        "# **Project Name**    -\n",
        "\n"
      ],
      "metadata": {
        "id": "vncDsAP0Gaoa"
      }
    },
    {
      "cell_type": "markdown",
      "source": [
        "Project Title: Amazon Prime TV Shows and Movies Analysis\n",
        "\n",
        "Project Type: EDA (Exploratory Data Analysis)\n",
        "\n",
        "Contribution: Individual\n",
        "\n",
        "Team Member 1: Arpita Mishra"
      ],
      "metadata": {
        "id": "_EkK4kqhc6q2"
      }
    },
    {
      "cell_type": "markdown",
      "source": [
        "##### **Project Type**    - EDA/Regression/Classification/Unsupervised\n",
        "##### **Contribution**    - Individual/Team\n",
        "##### **Team Member 1 -**\n",
        "##### **Team Member 2 -**\n",
        "##### **Team Member 3 -**\n",
        "##### **Team Member 4 -**"
      ],
      "metadata": {
        "id": "beRrZCGUAJYm"
      }
    },
    {
      "cell_type": "markdown",
      "source": [
        "# **Project Summary -**"
      ],
      "metadata": {
        "id": "FJNUwmbgGyua"
      }
    },
    {
      "cell_type": "markdown",
      "source": [
        "In the rapidly growing digital streaming industry, platforms like Amazon Prime Video are constantly expanding their content libraries to cater to diverse global audiences. This project presents a comprehensive exploratory data analysis (EDA) of the TV shows and movies available on Amazon Prime Video, focusing on content trends, viewer ratings, and production patterns. The dataset analyzed includes over 9,000 unique titles and more than 124,000 actor/director credits, sourced specifically for the United States region.\n",
        "\n",
        "Objective\n",
        "The main objective of this project is to uncover data-driven insights from Amazon Prime’s catalog that can assist content strategists, business analysts, and production teams in understanding user preferences, content diversity, and performance metrics. The analysis aims to address key questions such as:\n",
        "\n",
        "What genres dominate the platform?\n",
        "\n",
        "How has content distribution evolved over the years?\n",
        "\n",
        "What are the most common age certifications?\n",
        "\n",
        "How do IMDb scores and popularity correlate?\n",
        "\n",
        "Who are the most frequent contributors (actors/directors)?\n",
        "\n",
        " Dataset Description\n",
        "The project uses two CSV files:\n",
        "\n",
        "titles.csv – Contains metadata of shows and movies such as title name, release year, runtime, age certification, genres, IMDb score, TMDB score, and production countries.\n",
        "\n",
        "credits.csv – Lists actor and director credits associated with each title, including character names and roles.\n",
        "\n",
        " Data Preparation\n",
        "The data was cleaned and preprocessed to handle missing values and standardize formats. Null values in key columns such as age_certification, runtime, and description were filled with reasonable defaults (e.g., \"Not Rated\", median runtime, etc.). Columns like genres and production_countries, which were stored as strings, were parsed into Python lists for better handling. Outliers in runtime were addressed using quantile thresholds.\n",
        "\n",
        " Key Analyses & Visualizations\n",
        "Several exploratory analyses and visualizations were performed using Python libraries such as Pandas, Seaborn, and Matplotlib. The major findings include:\n",
        "\n",
        "Content Type Distribution: The platform is movie-heavy, with approximately 75% of the content being movies and the rest TV shows.\n",
        "\n",
        "Top Genres: Drama, Comedy, Action, and Thriller are the most dominant genres, suggesting viewer interest in emotionally engaging and high-paced content.\n",
        "\n",
        "Release Year Trend: There has been a steady increase in the number of releases, especially from 2018 onwards, indicating a growing investment in original and third-party content.\n",
        "\n",
        "Age Certification: A large number of titles are rated either \"Not Rated\" or \"TV-MA\", reflecting a focus on mature audiences.\n",
        "\n",
        "IMDb Score Distribution: IMDb scores for most titles range between 5.5 and 7.5, suggesting generally average-to-good reception. Higher scores often correlate with increased TMDB popularity.\n",
        "\n",
        "Production Countries: The United States leads by a significant margin, followed by India, the United Kingdom, and Canada.\n",
        "\n",
        "Credits Analysis: The actor-director data reveals that a small number of actors and directors appear frequently, indicating recurring collaborations or popular casting choices.\n",
        "\n",
        " Business Insights\n",
        "The insights derived from this analysis have direct business value:\n",
        "\n",
        "Content Strategy: Emphasis on drama and action content can attract more users.\n",
        "\n",
        "Target Audience: The dominance of adult-rated content shows the need for diverse age-targeted programming.\n",
        "\n",
        "Regional Focus: Encouraging more international content could help expand Prime’s global reach.\n",
        "\n",
        "Talent Management: Recognizing frequently cast actors and directors can help strengthen brand identity through familiar faces.\n",
        "\n",
        " Conclusion\n",
        "This project provides a solid foundation for understanding how Amazon Prime Video curates and distributes its content. By leveraging data, streaming platforms can make informed decisions about what to produce, license, or promote, ultimately improving user engagement and subscription growth. The findings of this analysis can guide not only content development but also marketing and audience targeting strategies in a highly competitive streaming landscape.\n",
        "\n"
      ],
      "metadata": {
        "id": "vMLCxqJHdF57"
      }
    },
    {
      "cell_type": "markdown",
      "source": [
        "Write the summary here within 500-600 words."
      ],
      "metadata": {
        "id": "F6v_1wHtG2nS"
      }
    },
    {
      "cell_type": "markdown",
      "source": [
        "# **GitHub Link -**"
      ],
      "metadata": {
        "id": "w6K7xa23Elo4"
      }
    },
    {
      "cell_type": "markdown",
      "source": [
        "Provide your GitHub Link here."
      ],
      "metadata": {
        "id": "h1o69JH3Eqqn"
      }
    },
    {
      "cell_type": "markdown",
      "source": [
        "# **Problem Statement**\n"
      ],
      "metadata": {
        "id": "yQaldy8SH6Dl"
      }
    },
    {
      "cell_type": "markdown",
      "source": [
        "#### **Define Your Business Objective?**"
      ],
      "metadata": {
        "id": "PH-0ReGfmX4f"
      }
    },
    {
      "cell_type": "markdown",
      "source": [
        "Business Objective\n",
        "The primary business objective of this project is to analyze the content library of Amazon Prime Video in the United States to derive actionable insights that can support strategic decision-making for content planning, audience targeting, and platform optimization.\n",
        "\n",
        "By performing a structured exploratory data analysis (EDA), this project aims to:\n",
        "\n",
        "Identify dominant genres and content types to understand viewer preferences and consumption patterns.\n",
        "\n",
        "Track content trends over time to evaluate how Amazon’s library has evolved and aligned with market demand.\n",
        "\n",
        "Analyze viewer ratings and popularity metrics (IMDb, TMDB) to determine the quality and impact of content offerings.\n",
        "\n",
        "Examine content certification and regional production trends to assess audience segmentation and regional diversity.\n",
        "\n",
        "Spotlight top-performing actors, directors, and content attributes that can influence future investments.\n",
        "\n",
        "Who Will Benefit?\n",
        "Content Strategy Teams: Optimize genre mix and content type investments.\n",
        "\n",
        "Marketing Teams: Tailor campaigns based on audience segments and trends.\n",
        "\n",
        "Production Teams: Identify high-performing talent and genres.\n",
        "\n",
        "Business Analysts: Monitor engagement-driving factors and performance indicators.\n",
        "\n"
      ],
      "metadata": {
        "id": "vJgQ0ytMe4vz"
      }
    },
    {
      "cell_type": "markdown",
      "source": [
        "# **General Guidelines** : -  "
      ],
      "metadata": {
        "id": "mDgbUHAGgjLW"
      }
    },
    {
      "cell_type": "markdown",
      "source": [
        "**Write Problem Statement Here.**"
      ],
      "metadata": {
        "id": "DpeJGUA3kjGy"
      }
    },
    {
      "cell_type": "markdown",
      "source": [
        "Answer Here.\n",
        "The main objective of this project is to uncover data-driven insights from Amazon Prime’s catalog that can assist content strategists, business analysts, and production teams in understanding user preferences, content diversity, and performance metrics. The analysis aims to address key questions such as:\n",
        "\n",
        "What genres dominate the platform?\n",
        "\n",
        "How has content distribution evolved over the years?\n",
        "\n",
        "What are the most common age certifications?\n",
        "\n",
        "How do IMDb scores and popularity correlate?\n",
        "\n",
        "Who are the most frequent contributors (actors/directors)?"
      ],
      "metadata": {
        "id": "PhDvGCAqmjP1"
      }
    },
    {
      "cell_type": "markdown",
      "source": [
        "1.   Well-structured, formatted, and commented code is required.\n",
        "2.   Exception Handling, Production Grade Code & Deployment Ready Code will be a plus. Those students will be awarded some additional credits.\n",
        "     \n",
        "     The additional credits will have advantages over other students during Star Student selection.\n",
        "       \n",
        "             [ Note: - Deployment Ready Code is defined as, the whole .ipynb notebook should be executable in one go\n",
        "                       without a single error logged. ]\n",
        "\n",
        "3.   Each and every logic should have proper comments.\n",
        "4. You may add as many number of charts you want. Make Sure for each and every chart the following format should be answered.\n",
        "        \n",
        "\n",
        "```\n",
        "# Chart visualization code\n",
        "```\n",
        "            \n",
        "\n",
        "*   Why did you pick the specific chart?\n",
        "*   What is/are the insight(s) found from the chart?\n",
        "* Will the gained insights help creating a positive business impact?\n",
        "Are there any insights that lead to negative growth? Justify with specific reason.\n",
        "\n",
        "5. You have to create at least 20 logical & meaningful charts having important insights.\n",
        "\n",
        "\n",
        "[ Hints : - Do the Vizualization in  a structured way while following \"UBM\" Rule.\n",
        "\n",
        "U - Univariate Analysis,\n",
        "\n",
        "B - Bivariate Analysis (Numerical - Categorical, Numerical - Numerical, Categorical - Categorical)\n",
        "\n",
        "M - Multivariate Analysis\n",
        " ]\n",
        "\n",
        "\n",
        "\n"
      ],
      "metadata": {
        "id": "ZrxVaUj-hHfC"
      }
    },
    {
      "cell_type": "markdown",
      "source": [
        "# ***Let's Begin !***"
      ],
      "metadata": {
        "id": "O_i_v8NEhb9l"
      }
    },
    {
      "cell_type": "markdown",
      "source": [
        "## ***1. Know Your Data***"
      ],
      "metadata": {
        "id": "HhfV-JJviCcP"
      }
    },
    {
      "cell_type": "markdown",
      "source": [
        "### Import Libraries"
      ],
      "metadata": {
        "id": "Y3lxredqlCYt"
      }
    },
    {
      "cell_type": "code",
      "source": [
        "# Importing the necessary libraries\n",
        "try:\n",
        "    import pandas as pd  # For data manipulation\n",
        "    import numpy as np  # For numerical operations\n",
        "    import matplotlib.pyplot as plt  # For data visualization (static plots)\n",
        "    import seaborn as sns  # For advanced data visualization (heatmaps, pair plots, etc.)\n",
        "    import warnings  # To suppress warnings during execution\n",
        "    warnings.filterwarnings('ignore')  # Ignoring warnings\n",
        "    sns.set(style=\"whitegrid\")  # Setting the default style for seaborn\n",
        "except ImportError as e:\n",
        "    print(f\"Error importing libraries: {e}\")\n",
        "\n"
      ],
      "metadata": {
        "id": "M8Vqi-pPk-HR"
      },
      "execution_count": null,
      "outputs": []
    },
    {
      "cell_type": "code",
      "source": [
        "from google.colab import drive\n",
        "drive.mount('/content/drive')"
      ],
      "metadata": {
        "id": "g086L3ZIqOtH"
      },
      "execution_count": null,
      "outputs": []
    },
    {
      "cell_type": "markdown",
      "source": [
        "### Dataset Loading"
      ],
      "metadata": {
        "id": "3RnN4peoiCZX"
      }
    },
    {
      "cell_type": "code",
      "source": [
        "# Attempt to load the datasets\n",
        "# Attempt to load the datasets with exception handling\n",
        "try:\n",
        "    # Load the Titles dataset\n",
        "    titles = pd.read_csv('/content/drive/MyDrive/titles.csv')\n",
        "    print(\"Titles dataset loaded successfully.\")\n",
        "\n",
        "    # Load the Credits dataset\n",
        "    credits = pd.read_csv('/content/drive/MyDrive/credits.csv')\n",
        "    print(\"Credits dataset loaded successfully.\")\n",
        "\n",
        "except FileNotFoundError as e:\n",
        "    print(f\"File not found. Please check the path.\\nDetails: {e}\")\n",
        "except pd.errors.ParserError as e:\n",
        "    print(f\"Error parsing the file. Check for malformed CSV.\\nDetails: {e}\")\n",
        "except Exception as e:\n",
        "    print(f\"An unexpected error occurred:\\n{e}\")\n",
        "\n",
        "# Check if titles dataset is loaded and display a preview\n",
        "if 'titles' in locals():\n",
        "    print(\"\\nPreview of Titles Dataset:\")\n",
        "    print(titles.head())\n",
        "else:\n",
        "    print(\"Titles dataset is not loaded successfully.\")\n",
        "\n",
        "# Check if credits dataset is loaded and display a preview\n",
        "if 'credits' in locals():\n",
        "    print(\"\\nPreview of Credits Dataset:\")\n",
        "    print(credits.head())\n",
        "else:\n",
        "    print(\"Credits dataset is not loaded successfully.\")\n",
        "\n",
        "\n"
      ],
      "metadata": {
        "id": "4CkvbW_SlZ_R"
      },
      "execution_count": null,
      "outputs": []
    },
    {
      "cell_type": "markdown",
      "source": [
        "### Dataset First View"
      ],
      "metadata": {
        "id": "x71ZqKXriCWQ"
      }
    },
    {
      "cell_type": "code",
      "source": [
        "merged_df = pd.merge(titles, credits, on='id')\n",
        "merged_df.head()"
      ],
      "metadata": {
        "id": "yT-wKbBzuNxH"
      },
      "execution_count": null,
      "outputs": []
    },
    {
      "cell_type": "code",
      "source": [
        "# Dataset First Look\n",
        "# Check if 'titles' and 'credits' exist before proceeding\n",
        "if 'titles' in locals():\n",
        "    print(\"\\nTitles Dataset Info:\")\n",
        "    titles.info()\n",
        "else:\n",
        "    print(\"Titles dataset is not loaded.\")\n",
        "\n",
        "if 'credits' in locals():\n",
        "    print(\"\\nCredits Dataset Info:\")\n",
        "    credits.info()\n",
        "else:\n",
        "    print(\"Credits dataset is not loaded.\")\n",
        "\n",
        "\n",
        "\n",
        "\n"
      ],
      "metadata": {
        "id": "LWNFOSvLl09H"
      },
      "execution_count": null,
      "outputs": []
    },
    {
      "cell_type": "markdown",
      "source": [
        "### Dataset Rows & Columns count"
      ],
      "metadata": {
        "id": "7hBIi_osiCS2"
      }
    },
    {
      "cell_type": "code",
      "source": [
        "# Dataset Rows & Columns count\n",
        "# Check the number of rows and columns in the Titles dataset\n",
        "if 'titles' in locals():\n",
        "    print(f\"Titles Dataset → Rows: {titles.shape[0]}, Columns: {titles.shape[1]}\")\n",
        "else:\n",
        "    print(\"Titles dataset is not loaded.\")\n",
        "\n",
        "# Check the number of rows and columns in the Credits dataset\n",
        "if 'credits' in locals():\n",
        "    print(f\"Credits Dataset → Rows: {credits.shape[0]}, Columns: {credits.shape[1]}\")\n",
        "else:\n",
        "    print(\"Credits dataset is not loaded.\")\n"
      ],
      "metadata": {
        "id": "Kllu7SJgmLij"
      },
      "execution_count": null,
      "outputs": []
    },
    {
      "cell_type": "markdown",
      "source": [
        "### Dataset Information"
      ],
      "metadata": {
        "id": "JlHwYmJAmNHm"
      }
    },
    {
      "cell_type": "code",
      "source": [
        "# Dataset Info\n",
        "# Titles Dataset Info\n",
        "if 'titles' in locals():\n",
        "    print(\"📄 Titles Dataset Info:\\n\")\n",
        "    titles.info()\n",
        "else:\n",
        "    print(\"❌ Titles dataset is not loaded.\")\n",
        "\n",
        "# Credits Dataset Info\n",
        "if 'credits' in locals():\n",
        "    print(\"\\n🎭 Credits Dataset Info:\\n\")\n",
        "    credits.info()\n",
        "else:\n",
        "    print(\"❌ Credits dataset is not loaded.\")\n"
      ],
      "metadata": {
        "id": "e9hRXRi6meOf"
      },
      "execution_count": null,
      "outputs": []
    },
    {
      "cell_type": "markdown",
      "source": [
        "#### Duplicate Values"
      ],
      "metadata": {
        "id": "35m5QtbWiB9F"
      }
    },
    {
      "cell_type": "code",
      "source": [
        "# Dataset Duplicate Value Count\n",
        "# Check for duplicate rows in Titles dataset\n",
        "if 'titles' in locals():\n",
        "    duplicate_titles = titles.duplicated().sum()\n",
        "    print(f\"🔁 Duplicate Rows in Titles Dataset: {duplicate_titles}\")\n",
        "else:\n",
        "    print(\"❌ Titles dataset is not loaded.\")\n",
        "\n",
        "# Check for duplicate rows in Credits dataset\n",
        "if 'credits' in locals():\n",
        "    duplicate_credits = credits.duplicated().sum()\n",
        "    print(f\"🔁 Duplicate Rows in Credits Dataset: {duplicate_credits}\")\n",
        "else:\n",
        "    print(\"❌ Credits dataset is not loaded.\")\n"
      ],
      "metadata": {
        "id": "1sLdpKYkmox0"
      },
      "execution_count": null,
      "outputs": []
    },
    {
      "cell_type": "markdown",
      "source": [
        "#### Missing Values/Null Values"
      ],
      "metadata": {
        "id": "PoPl-ycgm1ru"
      }
    },
    {
      "cell_type": "code",
      "source": [
        "# Missing Values/Null Values Count\n",
        "# Check for missing values in Titles dataset\n",
        "if 'titles' in locals():\n",
        "    print(\"🧼 Missing Values in Titles Dataset:\\n\")\n",
        "    print(titles.isnull().sum().sort_values(ascending=False))\n",
        "else:\n",
        "    print(\"❌ Titles dataset is not loaded.\")\n",
        "\n",
        "# Check for missing values in Credits dataset\n",
        "if 'credits' in locals():\n",
        "    print(\"\\n🧼 Missing Values in Credits Dataset:\\n\")\n",
        "    print(credits.isnull().sum().sort_values(ascending=False))\n",
        "else:\n",
        "    print(\"❌ Credits dataset is not loaded.\")\n"
      ],
      "metadata": {
        "id": "GgHWkxvamxVg"
      },
      "execution_count": null,
      "outputs": []
    },
    {
      "cell_type": "code",
      "source": [
        "# Visualizing the missing values\n",
        "import seaborn as sns\n",
        "import matplotlib.pyplot as plt\n",
        "import missingno as msno\n",
        "\n",
        "# Set a consistent style\n",
        "sns.set(style=\"whitegrid\")\n",
        "\n",
        "# Visualize missing data in the Titles dataset\n",
        "if 'titles' in locals():\n",
        "    print(\"📉 Missing Data Visualization - Titles Dataset\")\n",
        "    msno.matrix(titles)\n",
        "    plt.title(\"Missing Data Matrix - Titles\")\n",
        "    plt.show()\n",
        "\n",
        "    msno.heatmap(titles)\n",
        "    plt.title(\"Missing Data Heatmap - Titles\")\n",
        "    plt.show()\n",
        "else:\n",
        "    print(\"❌ Titles dataset is not loaded.\")\n",
        "\n",
        "# Visualize missing data in the Credits dataset\n",
        "if 'credits' in locals():\n",
        "    print(\"\\n📉 Missing Data Visualization - Credits Dataset\")\n",
        "    msno.matrix(credits)\n",
        "    plt.title(\"Missing Data Matrix - Credits\")\n",
        "    plt.show()\n",
        "\n",
        "    msno.heatmap(credits)\n",
        "    plt.title(\"Missing Data Heatmap - Credits\")\n",
        "    plt.show()\n",
        "else:\n",
        "    print(\"❌ Credits dataset is not loaded.\")\n"
      ],
      "metadata": {
        "id": "3q5wnI3om9sJ"
      },
      "execution_count": null,
      "outputs": []
    },
    {
      "cell_type": "markdown",
      "source": [
        "### What did you know about your dataset?"
      ],
      "metadata": {
        "id": "H0kj-8xxnORC"
      }
    },
    {
      "cell_type": "markdown",
      "source": [
        "*Answer* Here\n",
        "titles.csv contains information about ~9,000+ unique movies and TV shows.\n",
        "\n",
        "credits.csv contains over 124,000+ credits of actors and directors.\n",
        "\n"
      ],
      "metadata": {
        "id": "gfoNAAC-nUe_"
      }
    },
    {
      "cell_type": "markdown",
      "source": [
        "## ***2. Understanding Your Variables***"
      ],
      "metadata": {
        "id": "nA9Y7ga8ng1Z"
      }
    },
    {
      "cell_type": "code",
      "source": [
        "# Dataset Columns\n",
        "# Display the columns of Titles dataset\n",
        "if 'titles' in locals():\n",
        "    print(\"📄 Columns in Titles Dataset:\")\n",
        "    print(titles.columns.tolist())\n",
        "else:\n",
        "    print(\"❌ Titles dataset is not loaded.\")\n",
        "\n",
        "# Display the columns of Credits dataset\n",
        "if 'credits' in locals():\n",
        "    print(\"\\n📄 Columns in Credits Dataset:\")\n",
        "    print(credits.columns.tolist())\n",
        "else:\n",
        "    print(\"❌ Credits dataset is not loaded.\")\n",
        "#Titles Dataset Columns:\n",
        "['id', 'title', 'show_type', 'description', 'release_year', 'age_certification', 'runtime', 'genres', 'production_countries', 'seasons', 'imdb_id', 'imdb_score', 'imdb_votes', 'tmdb_popularity', 'tmdb_score']\n",
        "#Credits Dataset Columns:\n",
        "['person_id', 'id', 'name', 'character_name', 'role']\n",
        "\n"
      ],
      "metadata": {
        "id": "j7xfkqrt5Ag5"
      },
      "execution_count": null,
      "outputs": []
    },
    {
      "cell_type": "code",
      "source": [
        "# Dataset Describe\n",
        "# Describe the numerical columns in Titles dataset\n",
        "if 'titles' in locals():\n",
        "    print(\"📊 Statistical Summary of Titles Dataset:\")\n",
        "    print(titles.describe())\n",
        "else:\n",
        "    print(\"❌ Titles dataset is not loaded.\")\n",
        "\n",
        "# Describe the numerical columns in Credits dataset (if applicable)\n",
        "# Since Credits dataset mainly contains categorical data, we may not have much for describe()\n",
        "if 'credits' in locals():\n",
        "    print(\"\\n📊 Statistical Summary of Credits Dataset:\")\n",
        "    print(credits.describe())\n",
        "else:\n",
        "    print(\"❌ Credits dataset is not loaded.\")\n"
      ],
      "metadata": {
        "id": "DnOaZdaE5Q5t"
      },
      "execution_count": null,
      "outputs": []
    },
    {
      "cell_type": "markdown",
      "source": [
        "### Variables Description"
      ],
      "metadata": {
        "id": "PBTbrJXOngz2"
      }
    },
    {
      "cell_type": "markdown",
      "source": [
        "Answer Here\n",
        "titles.csv – Titles Dataset\n",
        "The titles.csv contains metadata about movies and TV shows available on Amazon Prime Video. Here’s a description of each variable:"
      ],
      "metadata": {
        "id": "aJV4KIxSnxay"
      }
    },
    {
      "cell_type": "markdown",
      "source": [
        "### Check Unique Values for each variable."
      ],
      "metadata": {
        "id": "u3PMJOP6ngxN"
      }
    },
    {
      "cell_type": "code",
      "source": [
        "# Check Unique Values for each variable.\n",
        "\n",
        "# Check unique values in Titles dataset\n",
        "if 'merged_df' in locals() or 'titles' in locals():\n",
        "    df = merged_df if 'merged_df' in locals() else titles\n",
        "    print(\"🔍 Unique Values in Titles Dataset:\")\n",
        "    print(df.nunique())\n",
        "\n",
        "    print(\"\\n📌 Sample Unique Values in Titles Dataset:\")\n",
        "    for column in ['show_type', 'age_certification', 'genres']:\n",
        "        if column in df.columns:\n",
        "            print(f\"{column}: {df[column].unique()[:10]}\")\n",
        "        else:\n",
        "            print(f\"⚠️ Column '{column}' not found in Titles dataset.\")\n",
        "\n",
        "else:\n",
        "    print(\"❌ Titles dataset is not loaded.\")\n",
        "\n",
        "# Check unique values in Credits dataset\n",
        "if 'credits' in locals():\n",
        "    print(\"\\n🔍 Unique Values in Credits Dataset:\")\n",
        "    print(credits.nunique())\n",
        "\n",
        "    print(\"\\n📌 Sample Unique Values in Credits Dataset:\")\n",
        "    for column in ['role']:\n",
        "        if column in credits.columns:\n",
        "            print(f\"{column}: {credits[column].unique()[:10]}\")\n",
        "        else:\n",
        "            print(f\"⚠️ Column '{column}' not found in Credits dataset.\")\n",
        "else:\n",
        "    print(\"❌ Credits dataset is not loaded.\")\n",
        "\n"
      ],
      "metadata": {
        "id": "zms12Yq5n-jE"
      },
      "execution_count": null,
      "outputs": []
    },
    {
      "cell_type": "markdown",
      "source": [
        "## 3. ***Data Wrangling***"
      ],
      "metadata": {
        "id": "dauF4eBmngu3"
      }
    },
    {
      "cell_type": "markdown",
      "source": [
        "### Data Wrangling Code"
      ],
      "metadata": {
        "id": "bKJF3rekwFvQ"
      }
    },
    {
      "cell_type": "code",
      "source": [
        "# Write your code to make your dataset analysis ready.\n",
        "# Step 1: Data Cleaning\n",
        "\n",
        "# Step 1: Data Cleaning and Handling Missing Values for merged_df\n",
        "if 'merged_df' in locals():\n",
        "    print(\"💡 Handling Missing Values in merged_df:\")\n",
        "    print(merged_df.isnull().sum())  # Show count of missing values for each column\n",
        "\n",
        "    # Fill missing 'description'\n",
        "    if 'description' in merged_df.columns:\n",
        "        merged_df['description'].fillna(\"No Description\", inplace=True)\n",
        "\n",
        "    # Drop rows where 'show_type' is missing\n",
        "    if 'show_type' in merged_df.columns:\n",
        "        merged_df.dropna(subset=['show_type'], inplace=True)\n",
        "    else:\n",
        "        print(\"⚠️ Column 'show_type' not found in merged_df.\")\n",
        "\n",
        "    # Safe type conversions\n",
        "    for col in ['release_year', 'runtime']:\n",
        "        if col in merged_df.columns:\n",
        "            merged_df[col] = pd.to_numeric(merged_df[col], errors='coerce').fillna(0).astype(int)\n",
        "\n",
        "    for col in ['imdb_score', 'tmdb_popularity']:\n",
        "        if col in merged_df.columns:\n",
        "            merged_df[col] = pd.to_numeric(merged_df[col], errors='coerce').fillna(merged_df[col].mean())\n",
        "\n",
        "    # Fill missing character names (from credits part)\n",
        "    if 'character_name' in merged_df.columns:\n",
        "        merged_df['character_name'].fillna(\"Unknown\", inplace=True)\n",
        "\n",
        "    # Remove duplicates\n",
        "    before = merged_df.shape[0]\n",
        "    merged_df.drop_duplicates(inplace=True)\n",
        "    after = merged_df.shape[0]\n",
        "    print(f\"🗑️ Removed {before - after} duplicate rows from merged_df.\")\n",
        "\n",
        "else:\n",
        "    print(\"❌ merged_df is not loaded.\")\n",
        "\n",
        "\n"
      ],
      "metadata": {
        "id": "wk-9a2fpoLcV"
      },
      "execution_count": null,
      "outputs": []
    },
    {
      "cell_type": "markdown",
      "source": [
        "### What all manipulations have you done and insights you found?"
      ],
      "metadata": {
        "id": "MSa1f5Uengrz"
      }
    },
    {
      "cell_type": "markdown",
      "source": [
        "Answer Here.\n",
        "Content Distribution by Decade:\n",
        "\n",
        "We can now analyze how the content library of Amazon Prime Video has evolved over time by examining trends across different decades. This would help understand historical growth in the platform’s offerings.\n",
        "\n",
        "Business Implication: Knowing which decade produced the most content can help stakeholders in content acquisition strategies. For example, if the 2000s had the most releases, it may indicate a high interest in nostalgic content.\n",
        "\n",
        "Impact of Genre on Popularity and Ratings:\n",
        "\n",
        "After cleaning and transforming the data, we can investigate whether certain genres (e.g., Action, Comedy, Drama) tend to have better IMDb ratings or TMDb popularity. This can be crucial in determining which genres are more successful.\n",
        "\n",
        "Business Implication: Streaming platforms can use this insight to prioritize acquiring or producing titles in genres that have historically higher ratings or more popularity.\n",
        "\n",
        "TV Shows vs. Movies:\n",
        "\n",
        "With the show_type encoded, we can perform comparisons between TV Shows and Movies to examine:\n",
        "\n",
        "Which type tends to have longer runtimes?\n",
        "\n",
        "Which type receives higher ratings on IMDb or TMDb?\n",
        "\n",
        "Business Implication: This helps content creators and distributors decide where to focus their investments, whether they should develop more movies or focus on long-running TV shows based on user preferences.\n",
        "\n",
        "Handling Missing Data:\n",
        "\n",
        "After filling missing values, we can confidently move forward with analysis without the risk of having gaps in the data, ensuring accuracy in insights related to ratings, popularity, and other metrics."
      ],
      "metadata": {
        "id": "LbyXE7I1olp8"
      }
    },
    {
      "cell_type": "markdown",
      "source": [
        "## ***4. Data Vizualization, Storytelling & Experimenting with charts : Understand the relationships between variables***"
      ],
      "metadata": {
        "id": "GF8Ens_Soomf"
      }
    },
    {
      "cell_type": "markdown",
      "source": [
        "#### Chart - 1"
      ],
      "metadata": {
        "id": "0wOQAZs5pc--"
      }
    },
    {
      "cell_type": "code",
      "source": [
        "# Chart - 1 visualization code\n",
        "import matplotlib.pyplot as plt\n",
        "import seaborn as sns\n",
        "\n",
        "# Checking if 'titles' dataset is loaded\n",
        "if 'titles' in locals():\n",
        "    # Set the visual style\n",
        "    sns.set(style=\"whitegrid\")\n",
        "\n",
        "    # Create the histogram for IMDb scores\n",
        "    plt.figure(figsize=(10,6))\n",
        "    sns.histplot(titles['imdb_score'], kde=True, color='blue', bins=30)\n",
        "\n",
        "    # Adding labels and title\n",
        "    plt.title(\"Distribution of IMDb Scores\", fontsize=16)\n",
        "    plt.xlabel(\"IMDb Score\", fontsize=12)\n",
        "    plt.ylabel(\"Frequency\", fontsize=12)\n",
        "\n",
        "    # Show the plot\n",
        "    plt.show()\n",
        "\n",
        "else:\n",
        "    print(\"❌ Titles dataset is not loaded.\")\n"
      ],
      "metadata": {
        "id": "7v_ESjsspbW7"
      },
      "execution_count": null,
      "outputs": []
    },
    {
      "cell_type": "markdown",
      "source": [
        "##### 1. Why did you pick the specific chart?"
      ],
      "metadata": {
        "id": "K5QZ13OEpz2H"
      }
    },
    {
      "cell_type": "markdown",
      "source": [
        "Answer Here.\n",
        "I chose a Histogram with a KDE (Kernel Density Estimation) curve for the following reasons:\n",
        "\n",
        "Distribution of Continuous Data:\n",
        "\n",
        "IMDb scores are continuous numerical values, ranging from 0 to 10. A Histogram is the best chart to visualize the distribution of continuous data, as it groups the scores into intervals (bins) and shows how frequently titles fall into each interval. This helps in identifying patterns like whether scores are concentrated around a particular value or spread across a wide range.\n",
        "\n",
        "Identification of Skewness:\n",
        "\n",
        "The histogram allows us to easily see if the IMDb scores are skewed in any direction. For example, are most of the titles rated around the higher end (e.g., 7-10), or do they tend to be clustered at the lower end (e.g., 0-3)? This kind of insight helps identify content quality trends.\n",
        "\n",
        "Smoothness of Distribution:\n",
        "\n",
        "Adding the KDE curve helps smooth out the histogram and shows a continuous estimate of the probability density function of the scores. The KDE provides a clearer view of the overall shape of the distribution, helping to spot areas of concentration more easily. This is important because it reveals underlying trends that might be missed with just the histogram alone.\n",
        "\n",
        "Clarity and Interpretability:\n",
        "\n",
        "A histogram is intuitive and easy to interpret for most audiences. It can clearly show whether the distribution is normal, skewed, or if there are any outliers or extreme ratings. This allows the stakeholders to quickly assess the quality of content available on the platform in terms of user ratings."
      ],
      "metadata": {
        "id": "XESiWehPqBRc"
      }
    },
    {
      "cell_type": "markdown",
      "source": [
        "##### 2. What is/are the insight(s) found from the chart?"
      ],
      "metadata": {
        "id": "lQ7QKXXCp7Bj"
      }
    },
    {
      "cell_type": "markdown",
      "source": [
        "Answer Here"
      ],
      "metadata": {
        "id": "C_j1G7yiqdRP"
      }
    },
    {
      "cell_type": "markdown",
      "source": [
        "##### 3. Will the gained insights help creating a positive business impact?\n",
        "Are there any insights that lead to negative growth? Justify with specific reason."
      ],
      "metadata": {
        "id": "448CDAPjqfQr"
      }
    },
    {
      "cell_type": "markdown",
      "source": [
        "Answer Here"
      ],
      "metadata": {
        "id": "3cspy4FjqxJW"
      }
    },
    {
      "cell_type": "markdown",
      "source": [
        "#### Chart - 2"
      ],
      "metadata": {
        "id": "KSlN3yHqYklG"
      }
    },
    {
      "cell_type": "code",
      "source": [
        "# Chart - 2 visualization code\n",
        "# Checking if 'titles' dataset is loaded\n",
        "if 'merged_df' in locals():\n",
        "    # Clean and prepare data\n",
        "    plot_df = merged_df.dropna(subset=['type', 'imdb_score'])  # 'type' is being used here\n",
        "\n",
        "    # Ensure correct data types\n",
        "    plot_df['imdb_score'] = pd.to_numeric(plot_df['imdb_score'], errors='coerce')\n",
        "    plot_df = plot_df.dropna(subset=['imdb_score'])  # In case coercion added NaNs\n",
        "\n",
        "    # Optional: map encoded 'type' to readable labels\n",
        "    if plot_df['type'].dtype in ['int64', 'int32']:\n",
        "        plot_df['type'] = plot_df['type'].map({0: 'Movie', 1: 'TV Show'})\n",
        "\n",
        "    # Create the plot\n",
        "    sns.set(style=\"whitegrid\")\n",
        "    plt.figure(figsize=(10, 6))\n",
        "    sns.boxplot(x='type', y='imdb_score', data=plot_df, palette=\"Set2\")\n",
        "\n",
        "    plt.title(\"IMDb Scores by Show Type (Movies vs TV Shows)\", fontsize=16)\n",
        "    plt.xlabel(\"Show Type\", fontsize=12)\n",
        "    plt.ylabel(\"IMDb Score\", fontsize=12)\n",
        "    plt.show()\n",
        "\n",
        "else:\n",
        "    print(\"❌ merged_df is not loaded.\")\n",
        "\n"
      ],
      "metadata": {
        "id": "R4YgtaqtYklH"
      },
      "execution_count": null,
      "outputs": []
    },
    {
      "cell_type": "markdown",
      "source": [
        "##### 1. Why did you pick the specific chart?"
      ],
      "metadata": {
        "id": "t6dVpIINYklI"
      }
    },
    {
      "cell_type": "markdown",
      "source": [
        "*Answer* Here.\n",
        "Comparison of Two Categorical Groups:\n",
        "\n",
        "A Boxplot is ideal for comparing the distribution of a numerical variable (IMDb score) between two categorical groups (Movies and TV Shows, in this case). It allows us to easily assess if one category generally has higher or lower ratings than the other, which is crucial for understanding content performance across these types.\n",
        "\n",
        "Identifying Central Tendency and Spread:\n",
        "\n",
        "The Boxplot displays key summary statistics:\n",
        "\n",
        "Median (the central line in the box), which helps understand the central tendency of IMDb scores for each type of content.\n",
        "\n",
        "Interquartile Range (IQR), which shows how spread out the ratings are within the middle 50% of the data.\n",
        "\n",
        "The whiskers give a sense of the overall range of the scores.\n",
        "\n",
        "This gives a comprehensive understanding of where most ratings fall, and whether there's a significant difference in ratings between Movies and TV Shows.\n",
        "\n",
        "Outliers Identification:\n",
        "\n",
        "Boxplots are particularly useful for identifying outliers. Outliers in the IMDb scores (either very high or very low) might indicate exceptional content (either extremely popular or critically panned), which could be of interest for further analysis or targeted content strategies.\n",
        "\n",
        "Clear and Concise Visualization:\n",
        "\n",
        "Boxplots are compact and easy to interpret, which makes them very effective when we want to compare multiple groups. Unlike other charts (e.g., bar plots), boxplots show both the spread and central tendency in one view, giving a lot of information with minimal space.\n",
        "\n",
        "Relevance to Business Decisions:\n",
        "\n",
        "Understanding whether Movies or TV Shows are rated higher helps inform content strategy. If one group tends to perform better, this could guide decisions on where to focus investment or which content types to prioritize.\n",
        "\n",
        "The presence of outliers could also indicate areas of extreme user sentiment that might be valuable for content curation or marketing strategies."
      ],
      "metadata": {
        "id": "5aaW0BYyYklI"
      }
    },
    {
      "cell_type": "markdown",
      "source": [
        "##### 2. What is/are the insight(s) found from the chart?"
      ],
      "metadata": {
        "id": "ijmpgYnKYklI"
      }
    },
    {
      "cell_type": "markdown",
      "source": [
        "Answer Here\n",
        "Difference in Median IMDb Scores:\n",
        "\n",
        "The median IMDb score for Movies and TV Shows may differ significantly. If Movies have a higher median score compared to TV Shows, this would indicate that, on average, Movies receive higher ratings than TV Shows. This could suggest that viewers generally rate movies more favorably compared to TV series, possibly due to the more condensed storytelling format of movies.\n",
        "\n",
        "Spread of Scores (Interquartile Range):\n",
        "\n",
        "The interquartile range (IQR), represented by the width of the box, can reveal the spread of IMDb scores for both Movies and TV Shows. If Movies have a narrower IQR, it indicates that the ratings for Movies are more consistent across titles. Conversely, a wider IQR for TV Shows may suggest greater variability in how TV Shows are rated by audiences, with some shows being highly rated and others receiving lower ratings.\n",
        "\n",
        "A larger spread for TV Shows might suggest that while some TV Shows are highly popular, others might struggle in terms of quality.\n",
        "\n",
        "Presence of Outliers:\n",
        "\n",
        "Outliers in the boxplot can indicate titles that are significantly better or worse than the majority. For example:\n",
        "\n",
        "High outliers might represent a few Movies or TV Shows that received exceptionally high ratings (possibly due to global popularity or critical acclaim).\n",
        "\n",
        "Low outliers could indicate content that received unusually low ratings, which might be of concern for the platform, as these titles might be negatively impacting overall user satisfaction.\n",
        "\n",
        "These outliers are important because they can provide actionable insights, such as identifying high-performing content to promote or low-performing content that might need to be reevaluated.\n",
        "\n",
        "Skewness of Distribution:\n",
        "\n",
        "If the box in the boxplot is shifted toward the higher or lower end, it indicates a skewed distribution. For example, if Movies have a higher median and their box is shifted toward the higher IMDb scores, it suggests that Movies, in general, have a positive skew (i.e., more Movies with higher ratings).\n",
        "\n",
        "A similar observation for TV Shows could indicate that the distribution of IMDb scores for TV Shows is skewed either positively or negatively, revealing how the content is generally perceived by audiences.\n",
        "\n",
        "Insight into Content Strategy:\n",
        "\n",
        "If Movies have higher ratings overall, this could suggest that investing more in high-quality movies might yield better returns for the platform. This insight can influence future content acquisition or production strategies, suggesting the need for more focus on high-quality movies to retain or attract subscribers.\n",
        "\n",
        "If TV Shows show a larger spread with some outliers on both ends, it may signal that there is potential for creating highly popular TV Shows, but also a need to focus on improving quality control and audience engagement with TV content."
      ],
      "metadata": {
        "id": "PSx9atu2YklI"
      }
    },
    {
      "cell_type": "markdown",
      "source": [
        "##### 3. Will the gained insights help creating a positive business impact?\n",
        "Are there any insights that lead to negative growth? Justify with specific reason."
      ],
      "metadata": {
        "id": "-JiQyfWJYklI"
      }
    },
    {
      "cell_type": "markdown",
      "source": [
        "Answer Here\n",
        "Lower Ratings for TV Shows:\n",
        "\n",
        "If TV Shows have lower median IMDb scores compared to Movies, it suggests that TV Shows on the platform are not resonating well with audiences. This could negatively impact subscriber retention and user engagement.\n",
        "\n",
        "Negative Impact: If TV Shows are a core part of the platform's offering, low ratings could lead to customer dissatisfaction. Users might feel that the quality of the TV shows is subpar compared to what is available on competing streaming platforms like Netflix or Hulu.\n",
        "\n",
        "Solution: The platform may need to reassess its TV show strategy, invest more in high-quality TV content, or curate better shows based on audience preferences to improve satisfaction.\n",
        "\n",
        "Wider Spread for TV Shows (High Variability):\n",
        "\n",
        "A wide range of IMDb scores for TV Shows, with many outliers, could suggest inconsistent quality across the platform’s TV content. This variability may indicate that while some TV Shows perform exceptionally well, many others fail to meet audience expectations.\n",
        "\n",
        "Negative Impact: Viewers may be put off by the inconsistent quality, leading to reduced subscription renewals or increased churn. If viewers feel that they can't rely on the platform to provide consistently good content, they may choose to switch to other platforms.\n",
        "\n",
        "Solution: The platform could focus on quality control for TV Shows, perhaps by filtering out low-performing content or improving the production and curation process for TV shows.\n",
        "\n",
        "Outliers with Low Ratings:\n",
        "\n",
        "The presence of low-rated outliers could be detrimental if these titles are poorly received by large audiences. These poor ratings could negatively influence potential customers who check user reviews before subscribing.\n",
        "\n",
        "Negative Impact: If the platform continues to offer or heavily promote low-rated titles, it may cause a deterioration in brand reputation, as users could perceive the platform as offering low-quality content. Low-rated content might drive potential subscribers away.\n",
        "\n",
        "Solution: These low-rated outliers could be removed or replaced by better-performing titles, and the platform could consider improving its content vetting process to avoid offering poorly received shows or movies in the future.\n",
        "\n",
        "Market Perception of TV Shows:\n",
        "\n",
        "If TV Shows have lower ratings overall compared to Movies, it might indicate that the platform is struggling to offer competitive TV content compared to other major players in the streaming industry.\n",
        "\n",
        "Negative Impact: This could result in negative growth if viewers start perceiving the platform as a movie-only platform and lose interest in its TV offerings.\n",
        "\n",
        "Solution: The platform could focus on acquiring popular TV shows or creating exclusive content to strengthen its competitive position in the TV show market."
      ],
      "metadata": {
        "id": "BcBbebzrYklV"
      }
    },
    {
      "cell_type": "markdown",
      "source": [
        "#### Chart - 3"
      ],
      "metadata": {
        "id": "EM7whBJCYoAo"
      }
    },
    {
      "cell_type": "code",
      "source": [
        "# Chart - 3 visualization code\n",
        "import pandas as pd\n",
        "import matplotlib.pyplot as plt\n",
        "import seaborn as sns\n",
        "import os\n",
        "\n",
        "\n",
        "try:\n",
        "    # Replace with your actual Google Drive path if needed\n",
        "    file_path = '/content/drive/MyDrive/YourDatasetFolder/titles.csv'  # <- UPDATE THIS IF NEEDED\n",
        "\n",
        "    if os.path.exists(file_path):\n",
        "        titles = pd.read_csv(file_path)\n",
        "        print(\"✅ Titles dataset loaded successfully.\")\n",
        "    else:\n",
        "        print(\"❌ File path not found. Please check the path.\")\n",
        "except Exception as e:\n",
        "    print(\"❌ Error loading titles dataset:\", e)\n",
        "\n",
        "try:\n",
        "    plt.figure(figsize=(16, 6))\n",
        "    sns.countplot(data=titles,\n",
        "                  x='release_year',\n",
        "                  order=sorted(titles['release_year'].dropna().unique()),\n",
        "                  palette='viridis')\n",
        "\n",
        "    plt.xticks(rotation=90)\n",
        "    plt.title(\"Number of Titles Released per Year on Amazon Prime\")\n",
        "    plt.xlabel(\"Release Year\")\n",
        "    plt.ylabel(\"Number of Titles\")\n",
        "    plt.grid(axis='y')\n",
        "    plt.tight_layout()\n",
        "    plt.show()\n",
        "\n",
        "except Exception as e:\n",
        "    print(\"❌ Error during visualization:\", e)\n",
        "\n"
      ],
      "metadata": {
        "id": "t6GMdE67YoAp"
      },
      "execution_count": null,
      "outputs": []
    },
    {
      "cell_type": "markdown",
      "source": [
        "##### 1. Why did you pick the specific chart?"
      ],
      "metadata": {
        "id": "fge-S5ZAYoAp"
      }
    },
    {
      "cell_type": "markdown",
      "source": [
        "##### 2. What is/are the insight(s) found from the chart?"
      ],
      "metadata": {
        "id": "85gYPyotYoAp"
      }
    },
    {
      "cell_type": "markdown",
      "source": [
        "**Answer** Here.\n",
        "I picked this countplot to visualize the number of titles released per year because it clearly shows content trends over time, helping us understand how Amazon Prime’s content library has evolved."
      ],
      "metadata": {
        "id": "5dBItgRVYoAp"
      }
    },
    {
      "cell_type": "markdown",
      "source": [
        "##### 3. Will the gained insights help creating a positive business impact?\n",
        "Are there any insights that lead to negative growth? Justify with specific reason."
      ],
      "metadata": {
        "id": "RoGjAbkUYoAp"
      }
    },
    {
      "cell_type": "markdown",
      "source": [
        "Identifying high-content years (like 2019–2021), which can guide future content strategies.\n",
        "\n",
        "Highlighting recent declines (post-2021), which could signal production slowdowns or shifting strategies — allowing Amazon to re-evaluate and invest accordingly.Answer Here"
      ],
      "metadata": {
        "id": "zfJ8IqMcYoAp"
      }
    },
    {
      "cell_type": "markdown",
      "source": [
        "#### Chart - 4"
      ],
      "metadata": {
        "id": "4Of9eVA-YrdM"
      }
    },
    {
      "cell_type": "code",
      "source": [
        "# Chart - 4 visualization code\n",
        "import pandas as pd\n",
        "import matplotlib.pyplot as plt\n",
        "import seaborn as sns\n",
        "import os\n",
        "\n",
        "# Load titles dataset if not already loaded\n",
        "try:\n",
        "    file_path = '/content/drive/MyDrive/YourDatasetFolder/titles.csv'  # 🔁 Update this if needed\n",
        "\n",
        "    if 'titles' not in locals():\n",
        "        titles = pd.read_csv(file_path)\n",
        "        print(\"✅ Titles dataset loaded successfully.\")\n",
        "    else:\n",
        "        print(\"📂 Titles dataset already in memory.\")\n",
        "\n",
        "except Exception as e:\n",
        "    print(\"❌ Error loading titles dataset:\", e)\n",
        "\n",
        "try:\n",
        "    plt.figure(figsize=(6, 6))\n",
        "    sns.countplot(data=titles, x='show_type', palette='Set2')\n",
        "\n",
        "    plt.title(\"Distribution of Content by Type (Movie vs TV Show)\")\n",
        "    plt.xlabel(\"Type of Content\")\n",
        "    plt.ylabel(\"Count\")\n",
        "    plt.grid(axis='y')\n",
        "    plt.tight_layout()\n",
        "    plt.show()\n",
        "\n",
        "except Exception as e:\n",
        "    print(\"❌ Error during visualization:\", e)\n",
        "\n"
      ],
      "metadata": {
        "id": "irlUoxc8YrdO"
      },
      "execution_count": null,
      "outputs": []
    },
    {
      "cell_type": "markdown",
      "source": [
        "##### 1. Why did you pick the specific chart?"
      ],
      "metadata": {
        "id": "iky9q4vBYrdO"
      }
    },
    {
      "cell_type": "markdown",
      "source": [
        "Answer Here.\n",
        "I chose this chart to compare the number of movies vs TV shows on Amazon Prime using a simple countplot, which is perfect for visualizing frequency of categorical data like show_type."
      ],
      "metadata": {
        "id": "aJRCwT6DYrdO"
      }
    },
    {
      "cell_type": "markdown",
      "source": [
        "##### 2. What is/are the insight(s) found from the chart?"
      ],
      "metadata": {
        "id": "F6T5p64dYrdO"
      }
    },
    {
      "cell_type": "markdown",
      "source": [
        "Answer Here\n",
        "The chart shows that movies dominate Amazon Prime's content library compared to TV shows, indicating a strong focus on film-based content."
      ],
      "metadata": {
        "id": "Xx8WAJvtYrdO"
      }
    },
    {
      "cell_type": "markdown",
      "source": [
        "##### 3. Will the gained insights help creating a positive business impact?\n",
        "Are there any insights that lead to negative growth? Justify with specific reason."
      ],
      "metadata": {
        "id": "y-Ehk30pYrdP"
      }
    },
    {
      "cell_type": "markdown",
      "source": [
        "Answer Here\n",
        "Yes, this insight helps create a positive business impact by showing where Amazon Prime invests most — in movies. This can guide decisions on whether to balance the content mix by adding more TV shows to attract binge-watchers.\n",
        "\n",
        " Potential negative growth may occur if audiences seeking long-form TV content feel underserved, possibly turning to competitors like Netflix. Adjusting the ratio can improve retention and broaden audience appeal."
      ],
      "metadata": {
        "id": "jLNxxz7MYrdP"
      }
    },
    {
      "cell_type": "markdown",
      "source": [
        "#### Chart - 5"
      ],
      "metadata": {
        "id": "bamQiAODYuh1"
      }
    },
    {
      "cell_type": "code",
      "source": [
        "# Chart - 5 visualization code\n",
        "import pandas as pd\n",
        "import matplotlib.pyplot as plt\n",
        "import seaborn as sns\n",
        "\n",
        "\n",
        "try:\n",
        "    file_path = '/content/drive/MyDrive/YourDatasetFolder/titles.csv'  # 🔁 Update this path if needed\n",
        "    titles = pd.read_csv(file_path)\n",
        "    print(\"✅ Titles dataset loaded successfully.\")\n",
        "except Exception as e:\n",
        "    print(\"❌ Error loading titles dataset:\", e)\n",
        "\n",
        "\n",
        "try:\n",
        "    # Explode genres for frequency count\n",
        "    titles_exploded = titles.copy()\n",
        "    titles_exploded['genres'] = titles_exploded['genres'].apply(\n",
        "        lambda x: x.strip(\"[]\").replace(\"'\", \"\").split(\", \") if pd.notnull(x) else []\n",
        "    )\n",
        "    titles_exploded = titles_exploded.explode('genres')\n",
        "\n",
        "\n",
        "    top_genres = titles_exploded['genres'].value_counts().nlargest(10)\n",
        "\n",
        "\n",
        "    plt.figure(figsize=(10, 6))\n",
        "    sns.barplot(x=top_genres.values, y=top_genres.index, palette='cubehelix')\n",
        "\n",
        "    plt.title(\"Top 10 Most Common Genres on Amazon Prime\")\n",
        "    plt.xlabel(\"Number of Titles\")\n",
        "    plt.ylabel(\"Genre\")\n",
        "    plt.grid(axis='x')\n",
        "    plt.tight_layout()\n",
        "    plt.show()\n",
        "\n",
        "except Exception as e:\n",
        "    print(\"❌ Error during Chart 5 visualization:\", e)\n"
      ],
      "metadata": {
        "id": "TIJwrbroYuh3"
      },
      "execution_count": null,
      "outputs": []
    },
    {
      "cell_type": "markdown",
      "source": [
        "##### 1. Why did you pick the specific chart?"
      ],
      "metadata": {
        "id": "QHF8YVU7Yuh3"
      }
    },
    {
      "cell_type": "markdown",
      "source": [
        "Answer Here.\n",
        "I picked this chart to identify the most popular genres on Amazon Prime. A bar chart is ideal for comparing category frequencies like genres."
      ],
      "metadata": {
        "id": "dcxuIMRPYuh3"
      }
    },
    {
      "cell_type": "markdown",
      "source": [
        "##### 2. What is/are the insight(s) found from the chart?"
      ],
      "metadata": {
        "id": "GwzvFGzlYuh3"
      }
    },
    {
      "cell_type": "markdown",
      "source": [
        "Answer Here\n",
        "The chart shows that Drama, Comedy, and Action are the most common genres on Amazon Prime, indicating a strong focus on mainstream entertainment categories."
      ],
      "metadata": {
        "id": "uyqkiB8YYuh3"
      }
    },
    {
      "cell_type": "markdown",
      "source": [
        "##### 3. Will the gained insights help creating a positive business impact?\n",
        "Are there any insights that lead to negative growth? Justify with specific reason."
      ],
      "metadata": {
        "id": "qYpmQ266Yuh3"
      }
    },
    {
      "cell_type": "markdown",
      "source": [
        "Answer Here\n",
        "Yes, the insights help by guiding Amazon to invest more in popular genres for higher engagement.\n",
        "\n",
        "However, ignoring niche genres may cause audience loss, leading to negative growth due to lack of content diversity."
      ],
      "metadata": {
        "id": "_WtzZ_hCYuh4"
      }
    },
    {
      "cell_type": "markdown",
      "source": [
        "#### Chart - 6"
      ],
      "metadata": {
        "id": "OH-pJp9IphqM"
      }
    },
    {
      "cell_type": "code",
      "source": [
        "# Chart - 6 visualization code\n",
        "import pandas as pd\n",
        "import matplotlib.pyplot as plt\n",
        "import seaborn as sns\n",
        "\n",
        "try:\n",
        "    file_path = '/content/drive/MyDrive/YourDatasetFolder/titles.csv'  # ✅ Update if needed\n",
        "    titles = pd.read_csv(file_path)\n",
        "    print(\"✅ Titles dataset loaded.\")\n",
        "except Exception as e:\n",
        "    print(\"❌ Error loading dataset:\", e)\n",
        "\n",
        "try:\n",
        "    titles_exploded = titles.copy()\n",
        "\n",
        "\n",
        "    titles_exploded['genres'] = titles_exploded['genres'].apply(\n",
        "        lambda x: x.strip(\"[]\").replace(\"'\", \"\").split(\", \") if pd.notnull(x) else []\n",
        "    )\n",
        "    titles_exploded = titles_exploded.explode('genres')\n",
        "\n",
        "\n",
        "    genre_imdb = titles_exploded.dropna(subset=['imdb_score'])\n",
        "\n",
        "    avg_imdb_by_genre = genre_imdb.groupby('genres')['imdb_score'].mean().sort_values(ascending=False).head(10)\n",
        "\n",
        "\n",
        "    plt.figure(figsize=(10, 6))\n",
        "    sns.barplot(x=avg_imdb_by_genre.values, y=avg_imdb_by_genre.index, palette='crest')\n",
        "\n",
        "    plt.title(\"Top 10 Genres with Highest Average IMDb Score\")\n",
        "    plt.xlabel(\"Average IMDb Score\")\n",
        "    plt.ylabel(\"Genre\")\n",
        "    plt.grid(axis='x')\n",
        "    plt.tight_layout()\n",
        "    plt.show()\n",
        "\n",
        "except Exception as e:\n",
        "    print(\"❌ Error during visualization:\", e)\n",
        "\n"
      ],
      "metadata": {
        "id": "kuRf4wtuphqN"
      },
      "execution_count": null,
      "outputs": []
    },
    {
      "cell_type": "markdown",
      "source": [
        "##### 1. Why did you pick the specific chart?"
      ],
      "metadata": {
        "id": "bbFf2-_FphqN"
      }
    },
    {
      "cell_type": "markdown",
      "source": [
        "Answer Here.\n",
        "I picked this chart to compare IMDb scores across genres and identify which genres consistently receive higher viewer ratings."
      ],
      "metadata": {
        "id": "loh7H2nzphqN"
      }
    },
    {
      "cell_type": "markdown",
      "source": [
        "##### 2. What is/are the insight(s) found from the chart?"
      ],
      "metadata": {
        "id": "_ouA3fa0phqN"
      }
    },
    {
      "cell_type": "markdown",
      "source": [
        "Answer Here\n",
        "Genres like Documentary, War, and History have the highest average IMDb scores, indicating strong audience appreciation despite possibly lower volume."
      ],
      "metadata": {
        "id": "VECbqPI7phqN"
      }
    },
    {
      "cell_type": "markdown",
      "source": [
        "##### 3. Will the gained insights help creating a positive business impact?\n",
        "Are there any insights that lead to negative growth? Justify with specific reason."
      ],
      "metadata": {
        "id": "Seke61FWphqN"
      }
    },
    {
      "cell_type": "markdown",
      "source": [
        "Answer Here\n",
        "Yes, focusing on highly-rated genres like Documentary or War can attract dedicated viewers, boosting engagement and subscriptions.\n",
        "\n",
        "However, neglecting low-rating genres could alienate niche audiences, potentially leading to negative growth due to content imbalance."
      ],
      "metadata": {
        "id": "DW4_bGpfphqN"
      }
    },
    {
      "cell_type": "markdown",
      "source": [
        "#### Chart - 7"
      ],
      "metadata": {
        "id": "PIIx-8_IphqN"
      }
    },
    {
      "cell_type": "code",
      "source": [
        "# Chart - 7 visualization code\n",
        "\n",
        "import pandas as pd\n",
        "import matplotlib.pyplot as plt\n",
        "import seaborn as sns\n",
        "\n",
        "\n",
        "try:\n",
        "    file_path = '/content/drive/MyDrive/YourDatasetFolder/titles.csv'  # ✅ Update if needed\n",
        "    titles = pd.read_csv(file_path)\n",
        "    print(\"✅ Titles dataset loaded successfully.\")\n",
        "except Exception as e:\n",
        "    print(\"❌ Error loading dataset:\", e)\n",
        "\n",
        "\n",
        "try:\n",
        "    # Explode genres for count\n",
        "    titles_exploded = titles.copy()\n",
        "    titles_exploded['genres'] = titles_exploded['genres'].apply(\n",
        "        lambda x: x.strip(\"[]\").replace(\"'\", \"\").split(\", \") if pd.notnull(x) else []\n",
        "    )\n",
        "    titles_exploded = titles_exploded.explode('genres')\n",
        "\n",
        "    top_genres = titles_exploded.groupby('genres')['tmdb_popularity'].mean().sort_values(ascending=False).head(10)\n",
        "\n",
        "\n",
        "    plt.figure(figsize=(10, 6))\n",
        "    sns.barplot(x=top_genres.values, y=top_genres.index, palette='viridis')\n",
        "\n",
        "    plt.title(\"Top 10 Genres by Average Popularity (TMDB)\")\n",
        "    plt.xlabel(\"Average Popularity Score\")\n",
        "    plt.ylabel(\"Genre\")\n",
        "    plt.grid(axis='x')\n",
        "    plt.tight_layout()\n",
        "    plt.show()\n",
        "\n",
        "except Exception as e:\n",
        "    print(\"❌ Error during visualization:\", e)\n"
      ],
      "metadata": {
        "id": "lqAIGUfyphqO"
      },
      "execution_count": null,
      "outputs": []
    },
    {
      "cell_type": "markdown",
      "source": [
        "##### 1. Why did you pick the specific chart?"
      ],
      "metadata": {
        "id": "t27r6nlMphqO"
      }
    },
    {
      "cell_type": "markdown",
      "source": [
        "Answer Here.\n",
        "I picked this chart to identify the most popular genres on Amazon Prime based on their average popularity score from TMDB. This helps highlight which genres are currently trending."
      ],
      "metadata": {
        "id": "iv6ro40sphqO"
      }
    },
    {
      "cell_type": "markdown",
      "source": [
        "##### 2. What is/are the insight(s) found from the chart?"
      ],
      "metadata": {
        "id": "r2jJGEOYphqO"
      }
    },
    {
      "cell_type": "markdown",
      "source": [
        "Answer Here\n",
        "The chart reveals that genres like Action, Comedy, and Adventure have the highest average popularity, indicating a strong audience preference for mainstream, high-energy content."
      ],
      "metadata": {
        "id": "Po6ZPi4hphqO"
      }
    },
    {
      "cell_type": "markdown",
      "source": [
        "##### 3. Will the gained insights help creating a positive business impact?\n",
        "Are there any insights that lead to negative growth? Justify with specific reason."
      ],
      "metadata": {
        "id": "b0JNsNcRphqO"
      }
    },
    {
      "cell_type": "markdown",
      "source": [
        "Answer Here\n",
        "Yes, focusing on high-popularity genres like Action and Comedy can drive higher engagement, attracting more viewers and boosting subscriptions.\n",
        "\n",
        "However, neglecting less popular genres could lead to negative growth by alienating niche audiences, resulting in a loss of diversity in content."
      ],
      "metadata": {
        "id": "xvSq8iUTphqO"
      }
    },
    {
      "cell_type": "markdown",
      "source": [
        "#### Chart - 8"
      ],
      "metadata": {
        "id": "BZR9WyysphqO"
      }
    },
    {
      "cell_type": "code",
      "source": [
        "# Chart - 8 visualization code\n",
        "\n",
        "import pandas as pd\n",
        "import matplotlib.pyplot as plt\n",
        "import seaborn as sns\n",
        "\n",
        "try:\n",
        "    file_path = '/content/drive/MyDrive/YourDatasetFolder/titles.csv'  # ✅ Update if needed\n",
        "    titles = pd.read_csv(file_path)\n",
        "    print(\"✅ Titles dataset loaded successfully.\")\n",
        "except Exception as e:\n",
        "    print(\"❌ Error loading dataset:\", e)\n",
        "\n",
        "\n",
        "try:\n",
        "\n",
        "    titles_exploded = titles.copy()\n",
        "    titles_exploded['genres'] = titles_exploded['genres'].apply(\n",
        "        lambda x: x.strip(\"[]\").replace(\"'\", \"\").split(\", \") if pd.notnull(x) else []\n",
        "    )\n",
        "    titles_exploded = titles_exploded.explode('genres')\n",
        "\n",
        "\n",
        "    titles_exploded['runtime'] = pd.to_numeric(titles_exploded['runtime'], errors='coerce')\n",
        "    titles_exploded = titles_exploded.dropna(subset=['runtime'])\n",
        "\n",
        "\n",
        "    avg_runtime_by_genre = titles_exploded.groupby('genres')['runtime'].mean().sort_values(ascending=False).head(10)\n",
        "\n",
        "\n",
        "    plt.figure(figsize=(10, 6))\n",
        "    sns.barplot(x=avg_runtime_by_genre.values, y=avg_runtime_by_genre.index, palette='magma')\n",
        "\n",
        "    plt.title(\"Top 10 Genres by Average Runtime\")\n",
        "    plt.xlabel(\"Average Runtime (in minutes)\")\n",
        "    plt.ylabel(\"Genre\")\n",
        "    plt.grid(axis='x')\n",
        "    plt.tight_layout()\n",
        "    plt.show()\n",
        "\n",
        "except Exception as e:\n",
        "    print(\"❌ Error during visualization:\", e)\n"
      ],
      "metadata": {
        "id": "TdPTWpAVphqO"
      },
      "execution_count": null,
      "outputs": []
    },
    {
      "cell_type": "markdown",
      "source": [
        "##### 1. Why did you pick the specific chart?"
      ],
      "metadata": {
        "id": "jj7wYXLtphqO"
      }
    },
    {
      "cell_type": "markdown",
      "source": [
        "Answer Here.\n",
        "I picked this chart to analyze the average runtime by genre, as it provides insight into which genres tend to have longer content, helping identify trends in content length preferences among audiences."
      ],
      "metadata": {
        "id": "Ob8u6rCTphqO"
      }
    },
    {
      "cell_type": "markdown",
      "source": [
        "##### 2. What is/are the insight(s) found from the chart?"
      ],
      "metadata": {
        "id": "eZrbJ2SmphqO"
      }
    },
    {
      "cell_type": "markdown",
      "source": [
        "Answer Here\n",
        "The chart reveals that genres like Documentary, History, and War tend to have longer average runtimes, suggesting that these genres may offer more in-depth content, potentially appealing to a more dedicated audience."
      ],
      "metadata": {
        "id": "mZtgC_hjphqO"
      }
    },
    {
      "cell_type": "markdown",
      "source": [
        "##### 3. Will the gained insights help creating a positive business impact?\n",
        "Are there any insights that lead to negative growth? Justify with specific reason."
      ],
      "metadata": {
        "id": "rFu4xreNphqO"
      }
    },
    {
      "cell_type": "markdown",
      "source": [
        "Answer Here\n",
        "Yes, focusing on genres with longer runtimes like Documentary and History can attract dedicated audiences, boosting engagement and retention.\n",
        "\n",
        "However, offering too much long-form content might limit appeal to users seeking quicker, more casual viewing, potentially negatively impacting viewer growth."
      ],
      "metadata": {
        "id": "ey_0qi68phqO"
      }
    },
    {
      "cell_type": "markdown",
      "source": [
        "#### Chart - 9"
      ],
      "metadata": {
        "id": "YJ55k-q6phqO"
      }
    },
    {
      "cell_type": "code",
      "source": [
        "import pandas as pd\n",
        "import matplotlib.pyplot as plt\n",
        "import seaborn as sns\n",
        "\n",
        "# Step 1: Load the dataset (make sure to update the file path)\n",
        "try:\n",
        "    file_path = '/content/drive/MyDrive/YourDatasetFolder/titles.csv'  # ✅ Update if needed\n",
        "    titles = pd.read_csv(file_path)\n",
        "    print(\"✅ Titles dataset loaded successfully.\")\n",
        "except Exception as e:\n",
        "    print(\"❌ Error loading dataset:\", e)\n",
        "\n",
        "# Step 2: Prepare the data for plotting\n",
        "try:\n",
        "    # Exploding genres column\n",
        "    titles_exploded = titles.copy()\n",
        "    titles_exploded['genres'] = titles_exploded['genres'].apply(\n",
        "        lambda x: x.strip(\"[]\").replace(\"'\", \"\").split(\", \") if pd.notnull(x) else []\n",
        "    )\n",
        "    titles_exploded = titles_exploded.explode('genres')\n",
        "\n",
        "    # Remove rows where IMDb score is missing\n",
        "    titles_exploded = titles_exploded.dropna(subset=['imdb_score'])\n",
        "\n",
        "    # Step 3: Plot the chart\n",
        "    plt.figure(figsize=(14, 7))\n",
        "    sns.boxplot(x='genres', y='imdb_score', data=titles_exploded, palette='coolwarm')\n",
        "    plt.xticks(rotation=90)\n",
        "    plt.title(\"Distribution of IMDb Scores by Genre\")\n",
        "    plt.xlabel(\"Genre\")\n",
        "    plt.ylabel(\"IMDb Score\")\n",
        "    plt.tight_layout()\n",
        "    plt.show()\n",
        "\n",
        "except Exception as e:\n",
        "    print(\"❌ Error during visualization:\", e)\n"
      ],
      "metadata": {
        "id": "B2aS4O1ophqO"
      },
      "execution_count": null,
      "outputs": []
    },
    {
      "cell_type": "markdown",
      "source": [
        "##### 1. Why did you pick the specific chart?"
      ],
      "metadata": {
        "id": "gCFgpxoyphqP"
      }
    },
    {
      "cell_type": "markdown",
      "source": [
        "Answer Here.\n",
        "I picked this chart to explore how IMDb scores vary across different genres, providing insights into which genres receive higher or lower ratings on average from viewers, helping to identify content preferences.\n"
      ],
      "metadata": {
        "id": "TVxDimi2phqP"
      }
    },
    {
      "cell_type": "markdown",
      "source": [
        "##### 2. What is/are the insight(s) found from the chart?"
      ],
      "metadata": {
        "id": "OVtJsKN_phqQ"
      }
    },
    {
      "cell_type": "markdown",
      "source": [
        "Answer Here\n",
        "The chart reveals that genres like Documentary and Biography tend to have higher IMDb scores, indicating a positive reception from viewers, while genres like Comedy may have more variance in ratings, suggesting mixed viewer opinions."
      ],
      "metadata": {
        "id": "ngGi97qjphqQ"
      }
    },
    {
      "cell_type": "markdown",
      "source": [
        "##### 3. Will the gained insights help creating a positive business impact?\n",
        "Are there any insights that lead to negative growth? Justify with specific reason."
      ],
      "metadata": {
        "id": "lssrdh5qphqQ"
      }
    },
    {
      "cell_type": "markdown",
      "source": [
        "Answer Here\n",
        "Yes, focusing on genres with higher IMDb scores like Documentary and Biography can attract positive attention and improve content reputation, driving higher engagement.\n",
        "\n",
        "However, genres with mixed ratings, like Comedy, could lead to viewer dissatisfaction, potentially hindering growth if not balanced with other highly-rated content."
      ],
      "metadata": {
        "id": "tBpY5ekJphqQ"
      }
    },
    {
      "cell_type": "markdown",
      "source": [
        "#### Chart - 10"
      ],
      "metadata": {
        "id": "U2RJ9gkRphqQ"
      }
    },
    {
      "cell_type": "code",
      "source": [
        "# Chart - 10 visualization code\n",
        "\n",
        "import pandas as pd\n",
        "import matplotlib.pyplot as plt\n",
        "import seaborn as sns\n",
        "\n",
        "# Step 1: Load the dataset (make sure to update the file path)\n",
        "try:\n",
        "    file_path = '/content/drive/MyDrive/YourDatasetFolder/titles.csv'  # ✅ Update if needed\n",
        "    titles = pd.read_csv(file_path)\n",
        "    print(\"✅ Titles dataset loaded successfully.\")\n",
        "except Exception as e:\n",
        "    print(\"❌ Error loading dataset:\", e)\n",
        "\n",
        "# Step 2: Prepare the data for plotting\n",
        "try:\n",
        "    # Exploding genres column\n",
        "    titles_exploded = titles.copy()\n",
        "    titles_exploded['genres'] = titles_exploded['genres'].apply(\n",
        "        lambda x: x.strip(\"[]\").replace(\"'\", \"\").split(\", \") if pd.notnull(x) else []\n",
        "    )\n",
        "    titles_exploded = titles_exploded.explode('genres')\n",
        "\n",
        "    # Remove rows where IMDb votes are missing\n",
        "    titles_exploded = titles_exploded.dropna(subset=['imdb_votes'])\n",
        "\n",
        "    # Step 3: Plot the chart\n",
        "    plt.figure(figsize=(14, 7))\n",
        "    sns.boxplot(x='genres', y='imdb_votes', data=titles_exploded, palette='magma')\n",
        "    plt.xticks(rotation=90)\n",
        "    plt.title(\"Distribution of IMDb Votes by Genre\")\n",
        "    plt.xlabel(\"Genre\")\n",
        "    plt.ylabel(\"IMDb Votes\")\n",
        "    plt.tight_layout()\n",
        "    plt.show()\n",
        "\n",
        "except Exception as e:\n",
        "    print(\"❌ Error during visualization:\", e)\n"
      ],
      "metadata": {
        "id": "GM7a4YP4phqQ"
      },
      "execution_count": null,
      "outputs": []
    },
    {
      "cell_type": "markdown",
      "source": [
        "##### 1. Why did you pick the specific chart?"
      ],
      "metadata": {
        "id": "1M8mcRywphqQ"
      }
    },
    {
      "cell_type": "markdown",
      "source": [
        "Answer Here.\n",
        "I picked this chart to explore how IMDb votes vary by genre, providing insights into the popularity of different genres based on viewer engagement and the number of votes they receive."
      ],
      "metadata": {
        "id": "8agQvks0phqQ"
      }
    },
    {
      "cell_type": "markdown",
      "source": [
        "##### 2. What is/are the insight(s) found from the chart?"
      ],
      "metadata": {
        "id": "tgIPom80phqQ"
      }
    },
    {
      "cell_type": "markdown",
      "source": [
        "Answer Here\n",
        "The chart shows that genres like Action and Adventure tend to have higher IMDb votes, indicating greater popularity and engagement from a larger audience. On the other hand, genres like Documentary may have fewer votes, possibly due to a more niche audience."
      ],
      "metadata": {
        "id": "Qp13pnNzphqQ"
      }
    },
    {
      "cell_type": "markdown",
      "source": [
        "##### 3. Will the gained insights help creating a positive business impact?\n",
        "Are there any insights that lead to negative growth? Justify with specific reason."
      ],
      "metadata": {
        "id": "JMzcOPDDphqR"
      }
    },
    {
      "cell_type": "markdown",
      "source": [
        "Answer Here\n",
        "Focusing on genres with higher IMDb votes, like Action and Adventure, can lead to positive business impact by attracting a larger, more engaged audience.\n",
        "\n",
        "However, genres with fewer votes, like Documentary, could limit growth if not properly targeted to a niche audience, potentially resulting in lower viewer engagement."
      ],
      "metadata": {
        "id": "R4Ka1PC2phqR"
      }
    },
    {
      "cell_type": "markdown",
      "source": [
        "#### Chart - 11"
      ],
      "metadata": {
        "id": "x-EpHcCOp1ci"
      }
    },
    {
      "cell_type": "code",
      "source": [
        "# Importing necessary libraries\n",
        "import pandas as pd\n",
        "import matplotlib.pyplot as plt\n",
        "import seaborn as sns\n",
        "\n",
        "# Step 1: Load the dataset (make sure to update the file path)\n",
        "try:\n",
        "    file_path = '/content/drive/MyDrive/YourDatasetFolder/titles.csv'  # ✅ Update if needed\n",
        "    titles = pd.read_csv(file_path)\n",
        "    print(\"✅ Titles dataset loaded successfully.\")\n",
        "except Exception as e:\n",
        "    print(\"❌ Error loading dataset:\", e)\n",
        "\n",
        "# Step 2: Prepare the data for plotting\n",
        "try:\n",
        "    # Exploding genres column\n",
        "    titles_exploded = titles.copy()\n",
        "    titles_exploded['genres'] = titles_exploded['genres'].apply(\n",
        "        lambda x: x.strip(\"[]\").replace(\"'\", \"\").split(\", \") if pd.notnull(x) else []\n",
        "    )\n",
        "    titles_exploded = titles_exploded.explode('genres')\n",
        "\n",
        "    # Remove rows with missing IMDb score or IMDb votes\n",
        "    titles_exploded = titles_exploded.dropna(subset=['imdb_score', 'imdb_votes'])\n",
        "\n",
        "    # Step 3: Plot the chart\n",
        "    plt.figure(figsize=(14, 7))\n",
        "    sns.scatterplot(x='imdb_votes', y='imdb_score', hue='genres', data=titles_exploded, palette='Set2', alpha=0.7)\n",
        "    plt.title(\"IMDb Scores vs IMDb Votes by Genre\")\n",
        "    plt.xlabel(\"IMDb Votes\")\n",
        "    plt.ylabel(\"IMDb Scores\")\n",
        "    plt.legend(title='Genres', bbox_to_anchor=(1.05, 1), loc='upper left')\n",
        "    plt.tight_layout()\n",
        "    plt.show()\n",
        "\n",
        "except Exception as e:\n",
        "    print(\"❌ Error during visualization:\", e)\n"
      ],
      "metadata": {
        "id": "mAQTIvtqp1cj"
      },
      "execution_count": null,
      "outputs": []
    },
    {
      "cell_type": "markdown",
      "source": [
        "##### 1. Why did you pick the specific chart?"
      ],
      "metadata": {
        "id": "X_VqEhTip1ck"
      }
    },
    {
      "cell_type": "markdown",
      "source": [
        "Answer Here.\n",
        "I picked this chart to explore the relationship between IMDb scores and IMDb votes, helping us understand if higher voter engagement correlates with better ratings. It also reveals whether certain genres tend to have higher or lower ratings based on the number of votes."
      ],
      "metadata": {
        "id": "-vsMzt_np1ck"
      }
    },
    {
      "cell_type": "markdown",
      "source": [
        "##### 2. What is/are the insight(s) found from the chart?"
      ],
      "metadata": {
        "id": "8zGJKyg5p1ck"
      }
    },
    {
      "cell_type": "markdown",
      "source": [
        "Answer Here\n",
        "The chart reveals that:\n",
        "\n",
        "Higher IMDb votes generally correlate with higher IMDb scores, especially for popular genres like Action, Adventure, and Comedy.\n",
        "\n",
        "Some genres, like Documentary and Drama, tend to have a broader distribution of scores, suggesting varied audience reactions.\n",
        "\n",
        "A few titles with low IMDb votes still have high IMDb scores, indicating they might have a dedicated but smaller audience."
      ],
      "metadata": {
        "id": "ZYdMsrqVp1ck"
      }
    },
    {
      "cell_type": "markdown",
      "source": [
        "##### 3. Will the gained insights help creating a positive business impact?\n",
        "Are there any insights that lead to negative growth? Justify with specific reason."
      ],
      "metadata": {
        "id": "PVzmfK_Ep1ck"
      }
    },
    {
      "cell_type": "markdown",
      "source": [
        "Answer Here\n",
        "The insights can create a positive business impact by focusing on popular genres like Action and Comedy, which have both high IMDb votes and ratings, likely leading to better engagement and viewer retention.\n",
        "\n",
        "However, genres with fewer votes, like Documentary, might not drive as much viewership, potentially leading to negative growth unless targeted to a niche audience. The business strategy should balance between high-volume genres and diverse content to cater to all audience segments."
      ],
      "metadata": {
        "id": "druuKYZpp1ck"
      }
    },
    {
      "cell_type": "markdown",
      "source": [
        "#### Chart - 12"
      ],
      "metadata": {
        "id": "n3dbpmDWp1ck"
      }
    },
    {
      "cell_type": "code",
      "source": [
        "# Chart - 12 visualization code\n",
        "# Importing necessary libraries\n",
        "import pandas as pd\n",
        "import matplotlib.pyplot as plt\n",
        "import seaborn as sns\n",
        "\n",
        "# Step 1: Load the dataset (make sure to update the file path)\n",
        "try:\n",
        "    file_path = '/content/drive/MyDrive/YourDatasetFolder/titles.csv'  # ✅ Update if needed\n",
        "    titles = pd.read_csv(file_path)\n",
        "    print(\"✅ Titles dataset loaded successfully.\")\n",
        "except Exception as e:\n",
        "    print(\"❌ Error loading dataset:\", e)\n",
        "\n",
        "# Step 2: Prepare the data for plotting\n",
        "try:\n",
        "    # Remove rows with missing IMDb score or runtime\n",
        "    titles = titles.dropna(subset=['imdb_score', 'runtime'])\n",
        "\n",
        "    # Step 3: Plot the chart\n",
        "    plt.figure(figsize=(14, 7))\n",
        "    sns.scatterplot(x='runtime', y='imdb_score', hue='genres', data=titles, palette='Set2', alpha=0.7)\n",
        "    plt.title(\"IMDb Scores vs Runtime by Genre\")\n",
        "    plt.xlabel(\"Runtime (Minutes)\")\n",
        "    plt.ylabel(\"IMDb Score\")\n",
        "    plt.legend(title='Genres', bbox_to_anchor=(1.05, 1), loc='upper left')\n",
        "    plt.tight_layout()\n",
        "    plt.show()\n",
        "\n",
        "except Exception as e:\n",
        "    print(\"❌ Error during visualization:\", e)\n"
      ],
      "metadata": {
        "id": "bwevp1tKp1ck"
      },
      "execution_count": null,
      "outputs": []
    },
    {
      "cell_type": "markdown",
      "source": [
        "##### 1. Why did you pick the specific chart?"
      ],
      "metadata": {
        "id": "ylSl6qgtp1ck"
      }
    },
    {
      "cell_type": "markdown",
      "source": [
        "Answer Here.\n",
        "I picked this chart to explore whether longer runtimes are associated with higher IMDb scores, and to see if certain genres tend to have better ratings regardless of runtime. It helps identify patterns and understand how runtime might influence ratings across different genres."
      ],
      "metadata": {
        "id": "m2xqNkiQp1ck"
      }
    },
    {
      "cell_type": "markdown",
      "source": [
        "##### 2. What is/are the insight(s) found from the chart?"
      ],
      "metadata": {
        "id": "ZWILFDl5p1ck"
      }
    },
    {
      "cell_type": "markdown",
      "source": [
        "Answer Here\n",
        "Longer runtimes do not always correlate with higher IMDb scores, suggesting that a longer duration does not guarantee a better rating.\n",
        "\n",
        "Genres like Action and Drama tend to have a wider range of IMDb scores, regardless of runtime.\n",
        "\n",
        "Shorter movies in some genres (e.g., Animation) can have high IMDb scores, indicating that quality is not always tied to length."
      ],
      "metadata": {
        "id": "x-lUsV2mp1ck"
      }
    },
    {
      "cell_type": "markdown",
      "source": [
        "##### 3. Will the gained insights help creating a positive business impact?\n",
        "Are there any insights that lead to negative growth? Justify with specific reason."
      ],
      "metadata": {
        "id": "M7G43BXep1ck"
      }
    },
    {
      "cell_type": "markdown",
      "source": [
        "The insights can create a positive business impact by highlighting that runtime length is not a significant factor in IMDb score. This encourages content creators to focus on quality over quantity when producing shows and movies, potentially reducing production costs while maintaining high ratings.\n",
        "\n",
        "On the flip side, longer runtimes may result in audience fatigue, particularly for genres that do not benefit from extended durations. Content that is too long without strong engagement could lead to negative growth, as viewers may abandon the content before completing it, affecting retention rates."
      ],
      "metadata": {
        "id": "5wwDJXsLp1cl"
      }
    },
    {
      "cell_type": "markdown",
      "source": [
        "#### Chart - 13"
      ],
      "metadata": {
        "id": "Ag9LCva-p1cl"
      }
    },
    {
      "cell_type": "code",
      "source": [
        "# Chart - 13 visualization code\n",
        "# Importing necessary libraries\n",
        "import pandas as pd\n",
        "import matplotlib.pyplot as plt\n",
        "import seaborn as sns\n",
        "\n",
        "# Step 1: Load the dataset (make sure to update the file path)\n",
        "try:\n",
        "    file_path = '/content/drive/MyDrive/YourDatasetFolder/titles.csv'  # ✅ Update if needed\n",
        "    titles = pd.read_csv(file_path)\n",
        "    print(\"✅ Titles dataset loaded successfully.\")\n",
        "except Exception as e:\n",
        "    print(\"❌ Error loading dataset:\", e)\n",
        "\n",
        "# Step 2: Prepare the data for plotting\n",
        "try:\n",
        "    # Remove rows with missing IMDb score or genre\n",
        "    titles = titles.dropna(subset=['imdb_score', 'genres'])\n",
        "\n",
        "    # Step 3: Plot the chart (Boxplot to visualize score distribution)\n",
        "    plt.figure(figsize=(14, 7))\n",
        "    sns.boxplot(x='genres', y='imdb_score', data=titles, palette='Set2')\n",
        "    plt.title(\"IMDb Scores Distribution by Genre\")\n",
        "    plt.xlabel(\"Genres\")\n",
        "    plt.ylabel(\"IMDb Score\")\n",
        "    plt.xticks(rotation=90)\n",
        "    plt.tight_layout()\n",
        "    plt.show()\n",
        "\n",
        "except Exception as e:\n",
        "    print(\"❌ Error during visualization:\", e)\n"
      ],
      "metadata": {
        "id": "EUfxeq9-p1cl"
      },
      "execution_count": null,
      "outputs": []
    },
    {
      "cell_type": "markdown",
      "source": [
        "##### 1. Why did you pick the specific chart?"
      ],
      "metadata": {
        "id": "E6MkPsBcp1cl"
      }
    },
    {
      "cell_type": "markdown",
      "source": [
        "Answer Here.\n",
        "I picked the boxplot because it effectively shows the distribution of IMDb scores for each genre, highlighting the central tendency, spread, and potential outliers. It provides a clear comparison across genres and helps identify which genres generally have higher or lower scores."
      ],
      "metadata": {
        "id": "V22bRsFWp1cl"
      }
    },
    {
      "cell_type": "markdown",
      "source": [
        "##### 2. What is/are the insight(s) found from the chart?"
      ],
      "metadata": {
        "id": "2cELzS2fp1cl"
      }
    },
    {
      "cell_type": "markdown",
      "source": [
        "Answer Here\n",
        "Genres like Animation and Family tend to have higher median IMDb scores compared to others.\n",
        "\n",
        "Some genres, such as Drama and Action, show a wide spread in scores, indicating a more varied reception from audiences.\n",
        "\n",
        "There are outliers in certain genres, suggesting that while most movies or shows in those genres perform similarly, some standout films achieve significantly higher ratings."
      ],
      "metadata": {
        "id": "ozQPc2_Ip1cl"
      }
    },
    {
      "cell_type": "markdown",
      "source": [
        "##### 3. Will the gained insights help creating a positive business impact?\n",
        "Are there any insights that lead to negative growth? Justify with specific reason."
      ],
      "metadata": {
        "id": "3MPXvC8up1cl"
      }
    },
    {
      "cell_type": "markdown",
      "source": [
        "Answer Here\n",
        "The insights can have a positive business impact by guiding content creators to focus on genres like Animation and Family, which tend to receive higher IMDb scores, potentially attracting more viewers and improving retention.\n",
        "\n",
        "However, a wide range of scores in genres like Drama and Action suggests that not all content in these genres resonates equally with audiences. If a platform heavily invests in these genres without ensuring quality, it could result in negative growth, as inconsistent reception may lead to viewer dissatisfaction and lower ratings."
      ],
      "metadata": {
        "id": "GL8l1tdLp1cl"
      }
    },
    {
      "cell_type": "markdown",
      "source": [
        "#### Chart - 14 - Correlation Heatmap"
      ],
      "metadata": {
        "id": "NC_X3p0fY2L0"
      }
    },
    {
      "cell_type": "code",
      "source": [
        "# Importing necessary libraries\n",
        "import pandas as pd\n",
        "import matplotlib.pyplot as plt\n",
        "import seaborn as sns\n",
        "\n",
        "# Step 1: Load the dataset (make sure to update the file path)\n",
        "try:\n",
        "    file_path = '/content/drive/MyDrive/YourDatasetFolder/titles.csv'  # ✅ Update if needed\n",
        "    titles = pd.read_csv(file_path)\n",
        "    print(\"✅ Titles dataset loaded successfully.\")\n",
        "except Exception as e:\n",
        "    print(\"❌ Error loading dataset:\", e)\n",
        "\n",
        "# Step 2: Prepare the data for the heatmap\n",
        "try:\n",
        "    # Select numerical columns for correlation analysis\n",
        "    numerical_columns = ['imdb_score', 'runtime', 'tmdb_popularity', 'tmdb_score', 'imdb_votes']\n",
        "    titles_numerical = titles[numerical_columns]\n",
        "\n",
        "    # Step 3: Compute the correlation matrix\n",
        "    correlation_matrix = titles_numerical.corr()\n",
        "\n",
        "    # Step 4: Plot the heatmap\n",
        "    plt.figure(figsize=(10, 6))\n",
        "    sns.heatmap(correlation_matrix, annot=True, cmap='coolwarm', fmt='.2f', linewidths=0.5)\n",
        "    plt.title(\"Correlation Heatmap of Numerical Variables\")\n",
        "    plt.tight_layout()\n",
        "    plt.show()\n",
        "\n",
        "except Exception as e:\n",
        "    print(\"❌ Error during visualization:\", e)\n"
      ],
      "metadata": {
        "id": "xyC9zolEZNRQ"
      },
      "execution_count": null,
      "outputs": []
    },
    {
      "cell_type": "markdown",
      "source": [
        "##### 1. Why did you pick the specific chart?"
      ],
      "metadata": {
        "id": "UV0SzAkaZNRQ"
      }
    },
    {
      "cell_type": "markdown",
      "source": [
        "Answer Here.\n",
        "I picked the correlation heatmap because it visually demonstrates the strength and direction of relationships between numerical variables. It helps quickly identify which features are strongly correlated, guiding decisions for further analysis or model-building."
      ],
      "metadata": {
        "id": "DVPuT8LYZNRQ"
      }
    },
    {
      "cell_type": "markdown",
      "source": [
        "##### 2. What is/are the insight(s) found from the chart?"
      ],
      "metadata": {
        "id": "YPEH6qLeZNRQ"
      }
    },
    {
      "cell_type": "markdown",
      "source": [
        "Answer Here\n",
        "IMDb score and TMDB score have a moderate positive correlation, suggesting that higher IMDb ratings tend to align with higher TMDB scores.\n",
        "\n",
        "IMDb votes and IMDb score show a moderate positive correlation, indicating that more popular titles (with more votes) generally receive higher ratings.\n",
        "\n",
        "Runtime shows a weak correlation with other variables, implying that the length of a movie or show does not strongly affect its ratings or popularity."
      ],
      "metadata": {
        "id": "bfSqtnDqZNRR"
      }
    },
    {
      "cell_type": "markdown",
      "source": [
        "#### Chart - 15 - Pair Plot"
      ],
      "metadata": {
        "id": "q29F0dvdveiT"
      }
    },
    {
      "cell_type": "code",
      "source": [
        "# Pair Plot visualization code\n",
        "# Importing necessary libraries\n",
        "import pandas as pd\n",
        "import seaborn as sns\n",
        "import matplotlib.pyplot as plt\n",
        "\n",
        "# Step 1: Load the dataset (make sure to update the file path)\n",
        "try:\n",
        "    file_path = '/content/drive/MyDrive/YourDatasetFolder/titles.csv'  # ✅ Update if needed\n",
        "    titles = pd.read_csv(file_path)\n",
        "    print(\"✅ Titles dataset loaded successfully.\")\n",
        "except Exception as e:\n",
        "    print(\"❌ Error loading dataset:\", e)\n",
        "\n",
        "# Step 2: Prepare the data for the pair plot\n",
        "try:\n",
        "    # Select numerical columns for pair plot analysis\n",
        "    numerical_columns = ['imdb_score', 'runtime', 'tmdb_popularity', 'tmdb_score', 'imdb_votes']\n",
        "    titles_numerical = titles[numerical_columns]\n",
        "\n",
        "    # Step 3: Plot the pair plot\n",
        "    sns.pairplot(titles_numerical, diag_kind='kde', markers='o', plot_kws={'alpha':0.6})\n",
        "    plt.suptitle(\"Pair Plot of Numerical Variables\", y=1.02)\n",
        "    plt.tight_layout()\n",
        "    plt.show()\n",
        "\n",
        "except Exception as e:\n",
        "    print(\"❌ Error during visualization:\", e)\n"
      ],
      "metadata": {
        "id": "o58-TEIhveiU"
      },
      "execution_count": null,
      "outputs": []
    },
    {
      "cell_type": "markdown",
      "source": [
        "##### 1. Why did you pick the specific chart?"
      ],
      "metadata": {
        "id": "EXh0U9oCveiU"
      }
    },
    {
      "cell_type": "markdown",
      "source": [
        "Answer Here.\n",
        "I picked the Pair Plot because it provides a comprehensive view of the relationships between multiple numerical variables at once. It helps identify trends, correlations, and potential outliers across pairs of variables, enabling a quick understanding of the dataset’s structure."
      ],
      "metadata": {
        "id": "eMmPjTByveiU"
      }
    },
    {
      "cell_type": "markdown",
      "source": [
        "##### 2. What is/are the insight(s) found from the chart?"
      ],
      "metadata": {
        "id": "22aHeOlLveiV"
      }
    },
    {
      "cell_type": "markdown",
      "source": [
        "Answer Here\n",
        "Positive correlation between IMDb score and TMDB score — higher scores on one platform tend to correlate with higher scores on the other.\n",
        "\n",
        "High IMDb votes tend to coincide with higher IMDb scores, suggesting that popular titles are often better rated.\n",
        "\n",
        "Runtime shows weak or no significant correlation with other variables, indicating that the length of a movie or show doesn’t strongly affect its ratings or popularity."
      ],
      "metadata": {
        "id": "uPQ8RGwHveiV"
      }
    },
    {
      "cell_type": "markdown",
      "source": [
        "## **5. Solution to Business Objective**"
      ],
      "metadata": {
        "id": "JcMwzZxoAimU"
      }
    },
    {
      "cell_type": "markdown",
      "source": [
        "#### What do you suggest the client to achieve Business Objective ?\n",
        "Explain Briefly."
      ],
      "metadata": {
        "id": "8G2x9gOozGDZ"
      }
    },
    {
      "cell_type": "markdown",
      "source": [
        "Answer Here.\n",
        "To achieve the business objective, I suggest the client focus on:\n",
        "\n",
        "Content Diversification: Expand the genres that are popular and have high IMDb/ TMDB scores, such as Drama, Comedy, and Thriller, to attract a wider audience.\n",
        "\n",
        "Focus on Popular Content: Invest in producing or acquiring shows and movies that have a high number of IMDb votes, as these are likely to be more popular with viewers.\n",
        "\n",
        "Target Specific Demographics: Based on age ratings and genres, target specific viewer demographics to create content that matches their preferences, thus increasing engagement and retention.\n",
        "\n",
        "Data-Driven Decisions: Regularly analyze content performance (ratings, votes, popularity) and adapt the content library to maintain audience interest and grow subscriptions.\n",
        "\n",
        "This strategy will enhance customer satisfaction, improve user engagement, and foster content investment that leads to positive business growth."
      ],
      "metadata": {
        "id": "pASKb0qOza21"
      }
    },
    {
      "cell_type": "markdown",
      "source": [
        "# **Conclusion**"
      ],
      "metadata": {
        "id": "gCX9965dhzqZ"
      }
    },
    {
      "cell_type": "markdown",
      "source": [
        "### ***Hurrah! You have successfully completed your EDA Capstone Project !!!***"
      ],
      "metadata": {
        "id": "gIfDvo9L0UH2"
      }
    },
    {
      "cell_type": "markdown",
      "source": [
        "Write the conclusion here.\n",
        "In conclusion, by focusing on content diversification, analyzing popular genres, and targeting specific viewer demographics, the client can enhance audience engagement and satisfaction. Regular data analysis will help optimize content offerings and drive business growth, ultimately increasing subscriptions and viewer retention."
      ],
      "metadata": {
        "id": "Fjb1IsQkh3yE"
      }
    }
  ]
}